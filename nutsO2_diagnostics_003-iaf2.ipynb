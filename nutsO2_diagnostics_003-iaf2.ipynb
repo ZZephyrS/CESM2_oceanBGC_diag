{
 "cells": [
  {
   "cell_type": "code",
   "execution_count": null,
   "metadata": {},
   "outputs": [],
   "source": [
    "%matplotlib inline\n",
    "import warnings\n",
    "warnings.filterwarnings('ignore')\n",
    "import os\n",
    "from glob import glob\n",
    "from collections import OrderedDict\n",
    "import xarray as xr\n",
    "import numpy as np\n",
    "import dask\n",
    "from ncar_jobqueue import NCARCluster\n",
    "import esmlab\n",
    "import matplotlib.pyplot as plt\n",
    "import cartopy\n",
    "import cartopy.crs as ccrs\n",
    "from scipy import stats\n",
    "import pop_tools \n",
    "\n",
    "from statistics import mean\n",
    "from matplotlib import style\n",
    "from scipy import stats\n",
    "style.use('ggplot')"
   ]
  },
  {
   "cell_type": "markdown",
   "metadata": {},
   "source": [
    "#### Diagnostics for run g.e21.G1850ECOIAF.T62_g16.003:\n",
    "Difference from previous run: longer parm_scalelen_vals\n",
    "\n",
    "100m 1 --> 1\n",
    "\n",
    "250m 2.9 --> 3.2\n",
    "\n",
    "500m 4.5 --> 4.8\n",
    "\n",
    "1000m 5.0 --> 5.3"
   ]
  },
  {
   "cell_type": "markdown",
   "metadata": {},
   "source": [
    "#### Get the CESM tseries files for nutrients and other vars"
   ]
  },
  {
   "cell_type": "code",
   "execution_count": null,
   "metadata": {},
   "outputs": [],
   "source": [
    "case = 'g.e21.G1850ECOIAF.T62_g16.003'"
   ]
  },
  {
   "cell_type": "code",
   "execution_count": null,
   "metadata": {},
   "outputs": [],
   "source": [
    "path = '/glade/scratch/kristenk/archive/' + case + '/ocn/proc/tseries/month_1'"
   ]
  },
  {
   "cell_type": "code",
   "execution_count": null,
   "metadata": {},
   "outputs": [],
   "source": [
    "variables = ['NO3', 'PO4','AOU','O2','SiO3']"
   ]
  },
  {
   "cell_type": "code",
   "execution_count": null,
   "metadata": {},
   "outputs": [],
   "source": [
    "coords = {'x':'TLONG','y':'TLAT'}"
   ]
  },
  {
   "cell_type": "code",
   "execution_count": null,
   "metadata": {},
   "outputs": [],
   "source": [
    "keepthese = ['z_t','z_t_150m','time_bound','TAREA','REGION_MASK', 'time'] + variables"
   ]
  },
  {
   "cell_type": "code",
   "execution_count": null,
   "metadata": {},
   "outputs": [],
   "source": [
    "%%time\n",
    "\n",
    "ds_list = []\n",
    "\n",
    "print(f'reading {case}')\n",
    "\n",
    "ds = xr.Dataset()\n",
    "\n",
    "for v in variables:\n",
    "    \n",
    "    print(v)\n",
    "    \n",
    "    files = sorted(glob(f'{path}/{case}.pop.h.{v}.??????-??????.nc'))       \n",
    "\n",
    "    #print(files)\n",
    "    \n",
    "    dsv = xr.open_mfdataset(files, decode_times=True, decode_coords=False)\n",
    "    #dsv=xr.open_mfdataset(files, data_vars=\"minimal\", coords='minimal', compat=\"override\", parallel=True, concat_dim=\"time\",\n",
    "                       #drop_variables=[\"transport_components\", \"transport_regions\"], decode_times=True)\n",
    "\n",
    "    \n",
    "    ds = xr.merge((ds, dsv))\n",
    "    ds_list.append(ds)"
   ]
  },
  {
   "cell_type": "markdown",
   "metadata": {},
   "source": [
    "#### Just keep the variables we need"
   ]
  },
  {
   "cell_type": "code",
   "execution_count": null,
   "metadata": {},
   "outputs": [],
   "source": [
    "keep_vars = keepthese +list(coords.values())+['dz','KMT']\n",
    "ds = ds.drop([v for v in ds.variables if v not in keep_vars])"
   ]
  },
  {
   "cell_type": "code",
   "execution_count": null,
   "metadata": {},
   "outputs": [],
   "source": [
    "ds"
   ]
  },
  {
   "cell_type": "markdown",
   "metadata": {},
   "source": [
    "#### Fix the time dimension so it's the mean of the time bounds"
   ]
  },
  {
   "cell_type": "code",
   "execution_count": null,
   "metadata": {},
   "outputs": [],
   "source": [
    "ds[\"time\"] = ds.time_bound.compute().mean(dim=\"d2\")"
   ]
  },
  {
   "cell_type": "markdown",
   "metadata": {},
   "source": [
    "#### Get the World Ocean Atlas dataset that has been interpolated onto the POP grid"
   ]
  },
  {
   "cell_type": "code",
   "execution_count": null,
   "metadata": {},
   "outputs": [],
   "source": [
    "file = '/glade/work/kristenk/WOA_data/regrid_POP/WOA2013_POPgrid.nc'"
   ]
  },
  {
   "cell_type": "code",
   "execution_count": null,
   "metadata": {},
   "outputs": [],
   "source": [
    "ds_woa = xr.load_dataset(file, decode_times=False, decode_coords=False)"
   ]
  },
  {
   "cell_type": "markdown",
   "metadata": {},
   "source": [
    "#### reset the WOA depth dimension as it's slightly different from CESM one"
   ]
  },
  {
   "cell_type": "code",
   "execution_count": null,
   "metadata": {},
   "outputs": [],
   "source": [
    "ds_woa['z_t'] = ds.z_t\n",
    "tlen=len(ds.time)\n",
    "tlen"
   ]
  },
  {
   "cell_type": "markdown",
   "metadata": {},
   "source": [
    "#### Make annual mean variables for the last 10 years of the model simulation"
   ]
  },
  {
   "cell_type": "code",
   "execution_count": null,
   "metadata": {},
   "outputs": [],
   "source": [
    "ds_annmean = xr.Dataset()\n",
    "ds_annmean['NO3'] = ds.NO3.isel(time=slice(-120,tlen)).mean(dim='time')\n",
    "ds_annmean['PO4'] = ds.PO4.isel(time=slice(-120,tlen)).mean(dim='time')\n",
    "ds_annmean['SiO3'] = ds.SiO3.isel(time=slice(-120,tlen)).mean(dim='time')\n",
    "ds_annmean['AOU'] = ds.AOU.isel(time=slice(-120,tlen)).mean(dim='time')\n",
    "ds_annmean['O2'] = ds.O2.isel(time=slice(-120,tlen)).mean(dim='time')"
   ]
  },
  {
   "cell_type": "markdown",
   "metadata": {},
   "source": [
    "#### Make difference arrays for the nutrients, O$_2$, and AOU"
   ]
  },
  {
   "cell_type": "code",
   "execution_count": null,
   "metadata": {},
   "outputs": [],
   "source": [
    "NO3_diff = ds_annmean.NO3 - ds_woa.NO3\n",
    "PO4_diff = ds_annmean.PO4 - ds_woa.PO4\n",
    "SiO3_diff = ds_annmean.SiO3 - ds_woa.SiO3\n",
    "AOU_diff = ds_annmean.AOU - ds_woa.AOU\n",
    "O2_diff = ds_annmean.O2 - ds_woa.O2"
   ]
  },
  {
   "cell_type": "markdown",
   "metadata": {},
   "source": [
    "#### Make an annual mean timeseries dataset"
   ]
  },
  {
   "cell_type": "code",
   "execution_count": null,
   "metadata": {},
   "outputs": [],
   "source": [
    "%%time\n",
    "ds_annmean_ts = ds.resample({'time':'A'}).mean(dim='time').compute()"
   ]
  },
  {
   "cell_type": "markdown",
   "metadata": {},
   "source": [
    "#### Set up the longs and lons for plotting"
   ]
  },
  {
   "cell_type": "code",
   "execution_count": null,
   "metadata": {},
   "outputs": [],
   "source": [
    "lons=ds_woa.TLONG\n",
    "lats=ds_woa.TLAT\n",
    "area=ds_woa.TAREA\n",
    "depths=ds_woa.z_t * 0.01\n",
    "years = np.arange(len(ds_annmean_ts.time))"
   ]
  },
  {
   "cell_type": "markdown",
   "metadata": {},
   "source": [
    "#### Set up region mask for major basins"
   ]
  },
  {
   "cell_type": "code",
   "execution_count": null,
   "metadata": {},
   "outputs": [],
   "source": [
    "grid_name = 'POP_gx1v7'\n",
    "ds_regmasks = pop_tools.get_grid(grid_name)"
   ]
  },
  {
   "cell_type": "code",
   "execution_count": null,
   "metadata": {},
   "outputs": [],
   "source": [
    "region_masks = pop_tools.list_region_masks(grid_name)\n",
    "region_mask='Pacific-Indian-Atlantic'\n",
    "mask3d = pop_tools.region_mask_3d(grid_name, mask_name=region_mask)"
   ]
  },
  {
   "cell_type": "markdown",
   "metadata": {},
   "source": [
    "#### -------------------------------------------------------------------------- end of setup"
   ]
  },
  {
   "cell_type": "markdown",
   "metadata": {},
   "source": [
    "### Surface macronutrient maps"
   ]
  },
  {
   "cell_type": "code",
   "execution_count": null,
   "metadata": {},
   "outputs": [],
   "source": [
    "fig = plt.figure(figsize=(15,10))\n",
    "plt.suptitle('Surface PO4 and NO3, mean over last 10 years of simulation', fontsize=14)\n",
    "\n",
    "#COLUMN 1  - NO3\n",
    "#---- CESM panel\n",
    "ax = fig.add_subplot(3,2,1, projection=ccrs.PlateCarree())\n",
    "ax.set_extent([-180, 180, -90, 90], ccrs.PlateCarree())\n",
    "ax.coastlines('10m',linewidth=0.5)\n",
    "ax.set_title('CESM annual mean surface NO$_3$', fontsize=10)\n",
    "pc1=ax.pcolormesh(lons, lats, \n",
    "                 ds_annmean.NO3.isel(z_t=0), vmin=0, vmax=20, cmap='Oranges',\n",
    "                 transform=ccrs.PlateCarree())\n",
    "cbar1 = fig.colorbar(pc1, ax=ax,extend='max',label='NO$_3$ (mmol m$^{-3}$)')\n",
    "\n",
    "#---- OBS panel\n",
    "ax = fig.add_subplot(3,2,3, projection=ccrs.PlateCarree())\n",
    "ax.set_extent([-180, 180, -90, 90], ccrs.PlateCarree())\n",
    "ax.coastlines('10m',linewidth=0.5)\n",
    "ax.set_title('WOA annual mean surface NO$_3$', fontsize=10)\n",
    "pc2=ax.pcolormesh(lons, lats, \n",
    "                 ds_woa.NO3.isel(z_t=0), vmin=0, vmax=20, cmap='Oranges',\n",
    "                 transform=ccrs.PlateCarree())\n",
    "cbar1 = fig.colorbar(pc2, ax=ax,extend='max',label='NO$_3$ (mmol m$^{-3}$)')\n",
    "\n",
    "#---- DIFF panel\n",
    "ax = fig.add_subplot(3,2,5, projection=ccrs.PlateCarree())\n",
    "ax.set_extent([-180, 180, -90, 90], ccrs.PlateCarree())\n",
    "ax.coastlines('10m',linewidth=0.5)\n",
    "ax.set_title('Surface NO$_3$ model bias', fontsize=10)\n",
    "pc3=ax.pcolormesh(lons, lats, \n",
    "                 NO3_diff.isel(z_t=0), vmin=-10, vmax=10, cmap='bwr',\n",
    "                 transform=ccrs.PlateCarree())\n",
    "cbar1 = fig.colorbar(pc3, ax=ax,extend='both',label='NO$_3$ bias (mmol m$^{-3}$)')\n",
    "\n",
    "#---- CESM panel\n",
    "ax = fig.add_subplot(3,2,2, projection=ccrs.PlateCarree())\n",
    "ax.set_extent([-180, 180, -90, 90], ccrs.PlateCarree())\n",
    "ax.coastlines('10m',linewidth=0.5)\n",
    "ax.set_title('CESM annual mean surface PO$_4$', fontsize=10)\n",
    "pc1=ax.pcolormesh(lons, lats, \n",
    "                 ds_annmean.PO4.isel(z_t=0), vmin=0, vmax=2, cmap='Oranges',\n",
    "                 transform=ccrs.PlateCarree())\n",
    "cbar1 = fig.colorbar(pc1, ax=ax,extend='max',label='PO$_4$ (mmol m$^{-3}$)')\n",
    "\n",
    "#---- OBS panel\n",
    "ax = fig.add_subplot(3,2,4, projection=ccrs.PlateCarree())\n",
    "ax.set_extent([-180, 180, -90, 90], ccrs.PlateCarree())\n",
    "ax.coastlines('10m',linewidth=0.5)\n",
    "ax.set_title('WOA annual mean surface PO$_4$', fontsize=10)\n",
    "pc2=ax.pcolormesh(lons, lats, \n",
    "                 ds_woa.PO4.isel(z_t=0), vmin=0, vmax=2, cmap='Oranges',\n",
    "                 transform=ccrs.PlateCarree())\n",
    "cbar1 = fig.colorbar(pc2, ax=ax,extend='max',label='PO$_4$ (mmol m$^{-3}$)')\n",
    "\n",
    "#---- DIFF panel\n",
    "ax = fig.add_subplot(3,2,6, projection=ccrs.PlateCarree())\n",
    "ax.set_extent([-180, 180, -90, 90], ccrs.PlateCarree())\n",
    "ax.coastlines('10m',linewidth=0.5)\n",
    "ax.set_title('Surface PO$_4$ bias', fontsize=10)\n",
    "pc3=ax.pcolormesh(lons, lats, \n",
    "                 PO4_diff.isel(z_t=0), vmin=-1, vmax=1, cmap='bwr',\n",
    "                 transform=ccrs.PlateCarree())\n",
    "cbar1 = fig.colorbar(pc3, ax=ax,extend='both',label='PO$_4$ bias (mmol m$^{-3}$)')\n",
    "\n"
   ]
  },
  {
   "cell_type": "markdown",
   "metadata": {},
   "source": [
    "### Thermocline macronutrient maps (~480m)"
   ]
  },
  {
   "cell_type": "code",
   "execution_count": null,
   "metadata": {},
   "outputs": [],
   "source": [
    "fig = plt.figure(figsize=(15,10))\n",
    "\n",
    "plt.suptitle('Thermocline PO4 and NO3, mean over last 10 years of simulation', fontsize=14)\n",
    "\n",
    "\n",
    "#COLUMN 1  - NO3\n",
    "\n",
    "#---- CESM panel\n",
    "ax = fig.add_subplot(3,2,1, projection=ccrs.PlateCarree())\n",
    "ax.set_extent([-180, 180, -90, 90], ccrs.PlateCarree())\n",
    "ax.coastlines('10m',linewidth=0.5)\n",
    "ax.set_title('CESM annual mean NO$_3$ at 480m', fontsize=10)\n",
    "pc1=ax.pcolormesh(lons, lats, \n",
    "                 ds_annmean.NO3.isel(z_t=32), vmin=0, vmax=40, cmap='Oranges',\n",
    "                 transform=ccrs.PlateCarree())\n",
    "cbar1 = fig.colorbar(pc1, ax=ax,extend='max',label='NO$_3$ (mmol m$^{-3}$)')\n",
    "\n",
    "#---- OBS panel\n",
    "ax = fig.add_subplot(3,2,3, projection=ccrs.PlateCarree())\n",
    "ax.set_extent([-180, 180, -90, 90], ccrs.PlateCarree())\n",
    "ax.coastlines('10m',linewidth=0.5)\n",
    "ax.set_title('WOA annual mean NO$_3$ at 480m', fontsize=10)\n",
    "pc2=ax.pcolormesh(lons, lats, \n",
    "                 ds_woa.NO3.isel(z_t=32), vmin=0, vmax=40, cmap='Oranges',\n",
    "                 transform=ccrs.PlateCarree())\n",
    "cbar1 = fig.colorbar(pc2, ax=ax,extend='max',label='NO$_3$ (mmol m$^{-3}$)')\n",
    "\n",
    "#---- DIFF panel\n",
    "ax = fig.add_subplot(3,2,5, projection=ccrs.PlateCarree())\n",
    "ax.set_extent([-180, 180, -90, 90], ccrs.PlateCarree())\n",
    "ax.coastlines('10m',linewidth=0.5)\n",
    "ax.set_title('NO$_3$ model bias at 480m', fontsize=10)\n",
    "pc3=ax.pcolormesh(lons, lats, \n",
    "                 NO3_diff.isel(z_t=32), vmin=-15, vmax=15, cmap='bwr',\n",
    "                 transform=ccrs.PlateCarree())\n",
    "cbar1 = fig.colorbar(pc3, ax=ax,extend='both',label='NO$_3$ bias (mmol m$^{-3}$)')\n",
    "\n",
    "#---- CESM panel\n",
    "ax = fig.add_subplot(3,2,2, projection=ccrs.PlateCarree())\n",
    "ax.set_extent([-180, 180, -90, 90], ccrs.PlateCarree())\n",
    "ax.coastlines('10m',linewidth=0.5)\n",
    "ax.set_title('CESM annual mean PO$_4$ at 480m', fontsize=10)\n",
    "pc1=ax.pcolormesh(lons, lats, \n",
    "                 ds_annmean.PO4.isel(z_t=32), vmin=0, vmax=4, cmap='Oranges',\n",
    "                 transform=ccrs.PlateCarree())\n",
    "cbar1 = fig.colorbar(pc1, ax=ax,extend='max',label='NO$_3$ (mmol m$^{-3}$)')\n",
    "\n",
    "#---- OBS panel\n",
    "ax = fig.add_subplot(3,2,4, projection=ccrs.PlateCarree())\n",
    "ax.set_extent([-180, 180, -90, 90], ccrs.PlateCarree())\n",
    "ax.coastlines('10m',linewidth=0.5)\n",
    "ax.set_title('WOA annual mean PO$_4$ at 480m', fontsize=10)\n",
    "pc2=ax.pcolormesh(lons, lats, \n",
    "                 ds_woa.PO4.isel(z_t=32), vmin=0, vmax=4, cmap='Oranges',\n",
    "                 transform=ccrs.PlateCarree())\n",
    "cbar1 = fig.colorbar(pc2, ax=ax,extend='max',label='NO$_3$ (mmol m$^{-3}$)')\n",
    "\n",
    "#---- DIFF panel\n",
    "ax = fig.add_subplot(3,2,6, projection=ccrs.PlateCarree())\n",
    "ax.set_extent([-180, 180, -90, 90], ccrs.PlateCarree())\n",
    "ax.coastlines('10m',linewidth=0.5)\n",
    "ax.set_title('PO$_4$ bias  at 480m', fontsize=10)\n",
    "pc3=ax.pcolormesh(lons, lats, \n",
    "                 PO4_diff.isel(z_t=32), vmin=-1, vmax=1, cmap='bwr',\n",
    "                 transform=ccrs.PlateCarree())\n",
    "cbar1 = fig.colorbar(pc3, ax=ax,extend='both',label='PO$_4$ bias (mmol m$^{-3}$)')"
   ]
  },
  {
   "cell_type": "markdown",
   "metadata": {},
   "source": [
    "### Thermocline O$_2$ and AOU maps"
   ]
  },
  {
   "cell_type": "code",
   "execution_count": null,
   "metadata": {},
   "outputs": [],
   "source": [
    "fig = plt.figure(figsize=(15,10))\n",
    "\n",
    "plt.suptitle('Thermocline O2 and AOU, mean over last 10 years of simulation', fontsize=14)\n",
    "\n",
    "#COLUMN 1  - O2\n",
    "#---- CESM panel\n",
    "ax = fig.add_subplot(3,2,1, projection=ccrs.PlateCarree())\n",
    "ax.set_extent([-180, 180, -90, 90], ccrs.PlateCarree())\n",
    "ax.coastlines('10m',linewidth=0.5)\n",
    "ax.set_title('CESM annual mean O$_2$ at 480m', fontsize=10)\n",
    "pc1=ax.pcolormesh(lons, lats, \n",
    "                 ds_annmean.O2.isel(z_t=32),cmap='GnBu',\n",
    "                 vmin=0, vmax=300, \n",
    "                 transform=ccrs.PlateCarree())\n",
    "cbar1 = fig.colorbar(pc1, ax=ax,extend='max',label='O$_2$ (mmol m$^{-3}$)')\n",
    "\n",
    "#---- OBS panel\n",
    "ax = fig.add_subplot(3,2,3, projection=ccrs.PlateCarree())\n",
    "ax.set_extent([-180, 180, -90, 90], ccrs.PlateCarree())\n",
    "ax.coastlines('10m',linewidth=0.5)\n",
    "ax.set_title('WOA annual mean O$_2$ at 480m', fontsize=10)\n",
    "pc2=ax.pcolormesh(lons, lats, \n",
    "                 ds_woa.O2.isel(z_t=32), cmap='GnBu',\n",
    "                 vmin=0, vmax=300, \n",
    "                 transform=ccrs.PlateCarree())\n",
    "cbar1 = fig.colorbar(pc2, ax=ax,extend='max',label='O$_2$ (mmol m$^{-3}$)')\n",
    "\n",
    "#---- DIFF panel\n",
    "ax = fig.add_subplot(3,2,5, projection=ccrs.PlateCarree())\n",
    "ax.set_extent([-180, 180, -90, 90], ccrs.PlateCarree())\n",
    "ax.coastlines('10m',linewidth=0.5)\n",
    "ax.set_title('O$_2$ at 480m model bias', fontsize=10)\n",
    "pc3=ax.pcolormesh(lons, lats, \n",
    "                 O2_diff.isel(z_t=32), cmap='bwr',\n",
    "                 vmin=-100, vmax=100, \n",
    "                 transform=ccrs.PlateCarree())\n",
    "cbar1 = fig.colorbar(pc3, ax=ax,extend='both',label='O$_2$ bias (mmol m$^{-3}$)')\n",
    "\n",
    "#column 2 AOU\n",
    "#---- CESM panel\n",
    "ax = fig.add_subplot(3,2,2, projection=ccrs.PlateCarree())\n",
    "ax.set_extent([-180, 180, -90, 90], ccrs.PlateCarree())\n",
    "ax.coastlines('10m',linewidth=0.5)\n",
    "ax.set_title('CESM annual mean AOU at 480m', fontsize=10)\n",
    "pc1=ax.pcolormesh(lons, lats, \n",
    "                 ds_woa.AOU.isel(z_t=32), cmap='BuPu',\n",
    "                 vmin=0, vmax=300, \n",
    "                 transform=ccrs.PlateCarree())\n",
    "cbar1 = fig.colorbar(pc1, ax=ax,extend='max',label='AOU  (mmol m$^{-3}$)')\n",
    "\n",
    "#---- OBS panel\n",
    "ax = fig.add_subplot(3,2,4, projection=ccrs.PlateCarree())\n",
    "ax.set_extent([-180, 180, -90, 90], ccrs.PlateCarree())\n",
    "ax.coastlines('10m',linewidth=0.5)\n",
    "ax.set_title('WOA annual mean AOU at 480m', fontsize=10)\n",
    "pc2=ax.pcolormesh(lons, lats, \n",
    "                 ds_woa.AOU.isel(z_t=32), cmap='BuPu',\n",
    "                 vmin=0, vmax=300, \n",
    "                 transform=ccrs.PlateCarree())\n",
    "cbar1 = fig.colorbar(pc2, ax=ax,extend='max',label='AOU (mmol m$^{-3}$)')\n",
    "\n",
    "#---- DIFF panel\n",
    "ax = fig.add_subplot(3,2,6, projection=ccrs.PlateCarree())\n",
    "ax.set_extent([-180, 180, -90, 90], ccrs.PlateCarree())\n",
    "ax.coastlines('10m',linewidth=0.5)\n",
    "ax.set_title('AOU at 480m bias', fontsize=10)\n",
    "pc3=ax.pcolormesh(lons, lats, \n",
    "                 AOU_diff.isel(z_t=32), cmap='bwr',\n",
    "                vmin=-100, vmax=100, \n",
    "                 transform=ccrs.PlateCarree())\n",
    "cbar1 = fig.colorbar(pc3, ax=ax,extend='both',label='AOU bias (mmol m$^{-3}$)')"
   ]
  },
  {
   "cell_type": "markdown",
   "metadata": {},
   "source": [
    "#### Global mean nutrient profiles"
   ]
  },
  {
   "cell_type": "code",
   "execution_count": null,
   "metadata": {},
   "outputs": [],
   "source": [
    "ds_glb = xr.Dataset({v: ds[v] for v in ['time', 'time_bound']})\n",
    "ds_glb['NO3']= esmlab.weighted_mean(ds_annmean['NO3'], weights=ds.TAREA, dim=['nlat', 'nlon']).compute()\n",
    "ds_glb['PO4']= esmlab.weighted_mean(ds_annmean['PO4'], weights=ds.TAREA, dim=['nlat', 'nlon']).compute()\n",
    "ds_glb['SiO3']= esmlab.weighted_mean(ds_annmean['SiO3'], weights=ds.TAREA, dim=['nlat', 'nlon']).compute()\n",
    "ds_glb['O2']= esmlab.weighted_mean(ds_annmean['O2'], weights=ds.TAREA, dim=['nlat', 'nlon']).compute()\n",
    "ds_glb['AOU']= esmlab.weighted_mean(ds_annmean['AOU'], weights=ds.TAREA, dim=['nlat', 'nlon']).compute()"
   ]
  },
  {
   "cell_type": "code",
   "execution_count": null,
   "metadata": {},
   "outputs": [],
   "source": [
    "ds_glb_woa = xr.Dataset({v: ds[v] for v in ['time', 'time_bound']})\n",
    "ds_glb_woa['NO3'] = esmlab.weighted_mean(ds_woa['NO3'], weights=ds.TAREA, dim=['nlat', 'nlon']).compute()\n",
    "ds_glb_woa['PO4'] = esmlab.weighted_mean(ds_woa['PO4'], weights=ds.TAREA, dim=['nlat', 'nlon']).compute()\n",
    "ds_glb_woa['SiO3'] = esmlab.weighted_mean(ds_woa['SiO3'], weights=ds.TAREA, dim=['nlat', 'nlon']).compute()\n",
    "ds_glb_woa['O2'] = esmlab.weighted_mean(ds_woa['O2'], weights=ds.TAREA, dim=['nlat', 'nlon']).compute()\n",
    "ds_glb_woa['AOU'] = esmlab.weighted_mean(ds_woa['AOU'], weights=ds.TAREA, dim=['nlat', 'nlon']).compute()"
   ]
  },
  {
   "cell_type": "code",
   "execution_count": null,
   "metadata": {},
   "outputs": [],
   "source": [
    "fig = plt.figure(figsize=(15,10))\n",
    "\n",
    "plt.suptitle('Global mean macronutrient profiles, mean over last 10 years of simulation', fontsize=14)\n",
    "\n",
    "\n",
    "#COLUMN 1  - NO3\n",
    "\n",
    "ax = fig.add_subplot(2,3,1)\n",
    "ax.set_title('Global mean NO$_3$')\n",
    "ax.plot(ds_glb['NO3'].values, depths, label='CESM', linewidth=3)\n",
    "ax.plot(ds_glb_woa['NO3'].values, depths, label='WOA', linewidth=3)\n",
    "ax.legend()\n",
    "ax.set(ylabel='depth (m)',xlabel='NO$_3$ (mmol m$^{-3}$)')\n",
    "plt.gca().invert_yaxis()\n",
    "\n",
    "#COLUMN 2  - PO4\n",
    "\n",
    "ax = fig.add_subplot(2,3,2)\n",
    "ax.set_title('Global mean PO$_4$')\n",
    "ax.plot(ds_glb['PO4'].values, depths, label='CESM', linewidth=3)\n",
    "ax.plot(ds_glb_woa['PO4'].values, depths, label='WOA', linewidth=3)\n",
    "ax.legend()\n",
    "ax.set(ylabel='depth (m)',xlabel='PO$_4$ (mmol m$^{-3}$)')\n",
    "plt.gca().invert_yaxis()\n",
    "\n",
    "#COLUMN 3  - SiO3\n",
    "\n",
    "ax = fig.add_subplot(2,3,3)\n",
    "ax.set_title('Global mean SiO$_3$')\n",
    "ax.plot(ds_glb['SiO3'].values, depths, label='CESM', linewidth=3)\n",
    "ax.plot(ds_glb_woa['SiO3'].values, depths, label='WOA', linewidth=3)\n",
    "ax.legend()\n",
    "ax.set(ylabel='depth (m)',xlabel='SiO$_3$ (mmol m$^{-3}$)')\n",
    "plt.gca().invert_yaxis()\n",
    "\n",
    "\n",
    "#COLUMN 1  - NO3 diff\n",
    "\n",
    "ax = fig.add_subplot(2,3,4)\n",
    "ax.plot(ds_glb['NO3'].values - ds_glb_woa['NO3'].values, depths, label='bias', linewidth=3, color='green')\n",
    "ax.legend()\n",
    "ax.set(ylabel='depth (m)',xlabel='NO$_3$ bias (mmol m$^{-3}$)')\n",
    "plt.gca().invert_yaxis()\n",
    "\n",
    "#COLUMN 2  - PO4 diff\n",
    "\n",
    "ax = fig.add_subplot(2,3,5)\n",
    "ax.plot(ds_glb['PO4'].values - ds_glb_woa['PO4'].values, depths, label='bias', linewidth=3, color='green')\n",
    "ax.legend()\n",
    "ax.set(ylabel='depth (m)',xlabel='PO$_4$ bias (mmol m$^{-3}$)')\n",
    "plt.gca().invert_yaxis()\n",
    "\n",
    "#COLUMN 3  - SiO3 diff\n",
    "\n",
    "ax = fig.add_subplot(2,3,6)\n",
    "ax.plot(ds_glb['SiO3'].values - ds_glb_woa['SiO3'].values, depths, label='bias', linewidth=3, color='green')\n",
    "ax.legend()\n",
    "ax.set(ylabel='depth (m)',xlabel='SiO$_3$ bias (mmol m$^{-3}$)')\n",
    "plt.gca().invert_yaxis()\n",
    "\n"
   ]
  },
  {
   "cell_type": "markdown",
   "metadata": {},
   "source": [
    "#### Just plotting the upper 500m"
   ]
  },
  {
   "cell_type": "code",
   "execution_count": null,
   "metadata": {},
   "outputs": [],
   "source": [
    "fig = plt.figure(figsize=(16,5))\n",
    "\n",
    "plt.suptitle('Global mean macronutrient upper ocean profiles, mean over last 10 years of simulation', fontsize=14)\n",
    "\n",
    "#COLUMN 1  - NO3\n",
    "\n",
    "ax = fig.add_subplot(1,3,1)\n",
    "ax.set_title('Global mean NO$_3$')\n",
    "ax.plot(ds_glb['NO3'].values, depths, label='CESM',linewidth=3)\n",
    "ax.plot(ds_glb_woa['NO3'].values, depths, label='WOA',linewidth=3)\n",
    "ax.legend()\n",
    "ax.set_ylim(0,400)\n",
    "ax.set_xlim(0,30)\n",
    "ax.set(ylabel='depth (m)',xlabel='NO$_3$ (mmol m$^{-3}$)')\n",
    "plt.gca().invert_yaxis()\n",
    "\n",
    "#COLUMN 2  - PO4\n",
    "\n",
    "ax = fig.add_subplot(1,3,2)\n",
    "ax.set_title('Global mean PO$_4$')\n",
    "ax.plot(ds_glb['PO4'].values, depths, label='CESM',linewidth=3)\n",
    "ax.plot(ds_glb_woa['PO4'].values, depths, label='WOA',linewidth=3)\n",
    "ax.legend()\n",
    "ax.set_ylim(0,400)\n",
    "ax.set_xlim(0,2.5)\n",
    "ax.set(ylabel='depth (m)',xlabel='PO$_4$ (mmol m$^{-3}$)')\n",
    "plt.gca().invert_yaxis()\n",
    "\n",
    "#COLUMN 3  - SiO3\n",
    "\n",
    "ax = fig.add_subplot(1,3,3)\n",
    "ax.set_title('Global mean SiO$_3$')\n",
    "ax.plot(ds_glb['SiO3'].values, depths, label='CESM',linewidth=3)\n",
    "ax.plot(ds_glb_woa['SiO3'].values, depths, label='WOA',linewidth=3)\n",
    "ax.legend()\n",
    "ax.set_ylim(0,400)\n",
    "ax.set_xlim(0,30)\n",
    "ax.set(ylabel='depth (m)',xlabel='SiO$_3$ (mmol m$^{-3}$)')\n",
    "plt.gca().invert_yaxis()"
   ]
  },
  {
   "cell_type": "markdown",
   "metadata": {},
   "source": [
    "### Oxygen profile"
   ]
  },
  {
   "cell_type": "code",
   "execution_count": null,
   "metadata": {},
   "outputs": [],
   "source": [
    "fig = plt.figure(figsize=(12,10))\n",
    "plt.suptitle('Global mean O2 and AOU profiles, mean over last 10 years of simulation', fontsize=14)\n",
    "\n",
    "\n",
    "#COLUMN 1  - O2\n",
    "\n",
    "ax = fig.add_subplot(2,2,1)\n",
    "ax.set_title('Global mean O$_2$')\n",
    "ax.plot(ds_glb['O2'].values, depths, label='CESM',linewidth=3)\n",
    "ax.plot(ds_glb_woa['O2'].values, depths, label='WOA',linewidth=3)\n",
    "ax.legend()\n",
    "ax.set(ylabel='depth (m)',xlabel='O$_2$ (mmol m$^{-3}$)')\n",
    "plt.gca().invert_yaxis()\n",
    "\n",
    "\n",
    "#COLUMN 2  - AOU\n",
    "\n",
    "ax = fig.add_subplot(2,2,2)\n",
    "ax.set_title('Global mean AOU')\n",
    "ax.plot(ds_glb['AOU'].values, depths, label='CESM',linewidth=3)\n",
    "ax.plot(ds_glb_woa['AOU'].values, depths, label='WOA',linewidth=3)\n",
    "ax.legend()\n",
    "ax.set(ylabel='depth (m)',xlabel='AOU (mmol m$^{-3}$)')\n",
    "plt.gca().invert_yaxis()\n",
    "\n",
    "\n",
    "#COLUMN 1  - O2\n",
    "\n",
    "ax = fig.add_subplot(2,2,3)\n",
    "ax.plot(ds_glb['O2'].values - ds_glb_woa['O2'].values, depths, label='bias',linewidth=3, color='green')\n",
    "ax.legend()\n",
    "ax.set(ylabel='depth (m)',xlabel='O$_2$ bias (mmol m$^{-3}$)')\n",
    "plt.gca().invert_yaxis()\n",
    "\n",
    "\n",
    "#COLUMN 2  - AOU\n",
    "\n",
    "ax = fig.add_subplot(2,2,4)\n",
    "ax.set_title('Global mean AOU')\n",
    "ax.plot(ds_glb['AOU'].values - ds_glb_woa['AOU'].values, depths, label='bias',linewidth=3, color='green')\n",
    "ax.legend()\n",
    "ax.set(ylabel='depth (m)',xlabel='AOU bias (mmol m$^{-3}$)')\n",
    "plt.gca().invert_yaxis()"
   ]
  },
  {
   "cell_type": "markdown",
   "metadata": {},
   "source": [
    "### Regional nutrient profiles"
   ]
  },
  {
   "cell_type": "markdown",
   "metadata": {},
   "source": [
    "#### Pacific"
   ]
  },
  {
   "cell_type": "code",
   "execution_count": null,
   "metadata": {},
   "outputs": [],
   "source": [
    "regnum=2\n",
    "mask3d.isel(region=regnum).plot();"
   ]
  },
  {
   "cell_type": "code",
   "execution_count": null,
   "metadata": {},
   "outputs": [],
   "source": [
    "ds_pac = xr.Dataset({v: ds[v] for v in ['time', 'time_bound']})\n",
    "ds_pac['NO3']= esmlab.weighted_mean(ds_annmean['NO3']*mask3d.isel(region=regnum), weights=ds.TAREA, dim=['nlat', 'nlon']).compute()\n",
    "ds_pac['PO4']= esmlab.weighted_mean(ds_annmean['PO4']*mask3d.isel(region=regnum), weights=ds.TAREA, dim=['nlat', 'nlon']).compute()\n",
    "ds_pac['SiO3']= esmlab.weighted_mean(ds_annmean['SiO3']*mask3d.isel(region=regnum), weights=ds.TAREA, dim=['nlat', 'nlon']).compute()\n",
    "ds_pac['O2']= esmlab.weighted_mean(ds_annmean['O2']*mask3d.isel(region=regnum), weights=ds.TAREA, dim=['nlat', 'nlon']).compute()\n",
    "ds_pac['AOU']= esmlab.weighted_mean(ds_annmean['AOU']*mask3d.isel(region=regnum), weights=ds.TAREA, dim=['nlat', 'nlon']).compute()"
   ]
  },
  {
   "cell_type": "code",
   "execution_count": null,
   "metadata": {},
   "outputs": [],
   "source": [
    "ds_pac_woa = xr.Dataset({v: ds[v] for v in ['time', 'time_bound']})\n",
    "ds_pac_woa['NO3'] = esmlab.weighted_mean(ds_woa['NO3']*mask3d.isel(region=regnum), weights=ds.TAREA, dim=['nlat', 'nlon']).compute()\n",
    "ds_pac_woa['PO4'] = esmlab.weighted_mean(ds_woa['PO4']*mask3d.isel(region=regnum), weights=ds.TAREA, dim=['nlat', 'nlon']).compute()\n",
    "ds_pac_woa['SiO3'] = esmlab.weighted_mean(ds_woa['SiO3']*mask3d.isel(region=regnum), weights=ds.TAREA, dim=['nlat', 'nlon']).compute()\n",
    "ds_pac_woa['O2'] = esmlab.weighted_mean(ds_woa['O2']*mask3d.isel(region=regnum), weights=ds.TAREA, dim=['nlat', 'nlon']).compute()\n",
    "ds_pac_woa['AOU'] = esmlab.weighted_mean(ds_woa['AOU']*mask3d.isel(region=regnum), weights=ds.TAREA, dim=['nlat', 'nlon']).compute()"
   ]
  },
  {
   "cell_type": "code",
   "execution_count": null,
   "metadata": {},
   "outputs": [],
   "source": [
    "fig = plt.figure(figsize=(15,10))\n",
    "\n",
    "#COLUMN 1  - NO3\n",
    "\n",
    "ax = fig.add_subplot(2,3,1)\n",
    "ax.set_title('Pacific basin mean NO$_3$')\n",
    "ax.plot(ds_pac['NO3'].values, depths, label='CESM',linewidth=3)\n",
    "ax.plot(ds_pac_woa['NO3'].values, depths, label='WOA',linewidth=3)\n",
    "ax.legend()\n",
    "ax.set(ylabel='depth (m)',xlabel='NO$_3$ (mmol m$^{-3}$)')\n",
    "plt.gca().invert_yaxis()\n",
    "\n",
    "#COLUMN 2  - PO4\n",
    "\n",
    "ax = fig.add_subplot(2,3,2)\n",
    "ax.set_title('Pacific basin mean PO$_4$')\n",
    "ax.plot(ds_pac['PO4'].values, depths, label='CESM',linewidth=3)\n",
    "ax.plot(ds_pac_woa['PO4'].values, depths, label='WOA',linewidth=3)\n",
    "ax.legend()\n",
    "ax.set(ylabel='depth (m)',xlabel='PO$_4$ (mmol m$^{-3}$)')\n",
    "plt.gca().invert_yaxis()\n",
    "\n",
    "#COLUMN 3  - SiO3\n",
    "\n",
    "ax = fig.add_subplot(2,3,3)\n",
    "ax.set_title('Pacific basin mean SiO$_3$')\n",
    "ax.plot(ds_pac['SiO3'].values, depths, label='CESM',linewidth=3)\n",
    "ax.plot(ds_pac_woa['SiO3'].values, depths, label='WOA',linewidth=3)\n",
    "ax.legend()\n",
    "ax.set(ylabel='depth (m)',xlabel='SiO$_3$ (mmol m$^{-3}$)')\n",
    "plt.gca().invert_yaxis()\n",
    "\n",
    "\n",
    "#COLUMN 1  - NO3 diff\n",
    "\n",
    "ax = fig.add_subplot(2,3,4)\n",
    "ax.plot(ds_pac['NO3'].values - ds_pac_woa['NO3'].values, depths, label='bias', linewidth=3, color='green')\n",
    "ax.legend()\n",
    "ax.set(ylabel='depth (m)',xlabel='NO$_3$ bias (mmol m$^{-3}$)')\n",
    "plt.gca().invert_yaxis()\n",
    "\n",
    "#COLUMN 2  - PO4 diff\n",
    "\n",
    "ax = fig.add_subplot(2,3,5)\n",
    "ax.plot(ds_pac['PO4'].values - ds_pac_woa['PO4'].values, depths, label='bias', linewidth=3, color='green')\n",
    "ax.legend()\n",
    "ax.set(ylabel='depth (m)',xlabel='PO$_4$ bias (mmol m$^{-3}$)')\n",
    "plt.gca().invert_yaxis()\n",
    "\n",
    "#COLUMN 3  - SiO3 diff\n",
    "\n",
    "ax = fig.add_subplot(2,3,6)\n",
    "ax.plot(ds_pac['SiO3'].values - ds_pac_woa['SiO3'].values, depths, label='bias', linewidth=3, color='green')\n",
    "ax.legend()\n",
    "ax.set(ylabel='depth (m)',xlabel='SiO$_3$ bias (mmol m$^{-3}$)')\n",
    "plt.gca().invert_yaxis()"
   ]
  },
  {
   "cell_type": "code",
   "execution_count": null,
   "metadata": {},
   "outputs": [],
   "source": [
    "fig = plt.figure(figsize=(12,10))\n",
    "\n",
    "#COLUMN 1  - O2\n",
    "\n",
    "ax = fig.add_subplot(2,2,1)\n",
    "ax.set_title('Pacific basin mean O$_2$')\n",
    "ax.plot(ds_pac['O2'].values, depths, label='CESM',linewidth=3)\n",
    "ax.plot(ds_pac_woa['O2'].values, depths, label='WOA',linewidth=3)\n",
    "ax.legend()\n",
    "ax.set(ylabel='depth (m)',xlabel='O$_2$ (mmol m$^{-3}$)')\n",
    "plt.gca().invert_yaxis()\n",
    "\n",
    "#COLUMN 2  - AOU\n",
    "\n",
    "ax = fig.add_subplot(2,2,2)\n",
    "ax.set_title('Pacific basin mean AOU')\n",
    "ax.plot(ds_pac['AOU'].values, depths, label='CESM',linewidth=3)\n",
    "ax.plot(ds_pac_woa['AOU'].values, depths, label='WOA',linewidth=3)\n",
    "ax.legend()\n",
    "ax.set(ylabel='depth (m)',xlabel='AOU (mmol m$^{-3}$)')\n",
    "plt.gca().invert_yaxis()\n",
    "\n",
    "\n",
    "#COLUMN 1  - O2 bias\n",
    "\n",
    "ax = fig.add_subplot(2,2,3)\n",
    "ax.plot(ds_pac['O2'].values - ds_pac_woa['O2'].values, depths, label='bias',linewidth=3, color='green')\n",
    "ax.legend()\n",
    "ax.set(ylabel='depth (m)',xlabel='O$_2$ bias (mmol m$^{-3}$)')\n",
    "plt.gca().invert_yaxis()\n",
    "\n",
    "#COLUMN 2  - AOU bias\n",
    "\n",
    "ax = fig.add_subplot(2,2,4)\n",
    "ax.plot(ds_pac['AOU'].values - ds_pac_woa['AOU'].values, depths, label='bias',linewidth=3, color='green')\n",
    "ax.legend()\n",
    "ax.set(ylabel='depth (m)',xlabel='AOU bias (mmol m$^{-3}$)')\n",
    "plt.gca().invert_yaxis()\n"
   ]
  },
  {
   "cell_type": "markdown",
   "metadata": {},
   "source": [
    "#### Atlantic"
   ]
  },
  {
   "cell_type": "code",
   "execution_count": null,
   "metadata": {},
   "outputs": [],
   "source": [
    "regnum=1\n",
    "mask3d.isel(region=regnum).plot();"
   ]
  },
  {
   "cell_type": "code",
   "execution_count": null,
   "metadata": {},
   "outputs": [],
   "source": [
    "ds_atl = xr.Dataset({v: ds[v] for v in ['time', 'time_bound']})\n",
    "ds_atl['NO3']= esmlab.weighted_mean(ds_annmean['NO3']*mask3d.isel(region=regnum), weights=ds.TAREA, dim=['nlat', 'nlon']).compute()\n",
    "ds_atl['PO4']= esmlab.weighted_mean(ds_annmean['PO4']*mask3d.isel(region=regnum), weights=ds.TAREA, dim=['nlat', 'nlon']).compute()\n",
    "ds_atl['SiO3']= esmlab.weighted_mean(ds_annmean['SiO3']*mask3d.isel(region=regnum), weights=ds.TAREA, dim=['nlat', 'nlon']).compute()\n",
    "ds_atl['O2']= esmlab.weighted_mean(ds_annmean['O2']*mask3d.isel(region=regnum), weights=ds.TAREA, dim=['nlat', 'nlon']).compute()\n",
    "ds_atl['AOU']= esmlab.weighted_mean(ds_annmean['AOU']*mask3d.isel(region=regnum), weights=ds.TAREA, dim=['nlat', 'nlon']).compute()"
   ]
  },
  {
   "cell_type": "code",
   "execution_count": null,
   "metadata": {},
   "outputs": [],
   "source": [
    "ds_atl_woa = xr.Dataset({v: ds[v] for v in ['time', 'time_bound']})\n",
    "ds_atl_woa['NO3'] = esmlab.weighted_mean(ds_woa['NO3']*mask3d.isel(region=regnum), weights=ds.TAREA, dim=['nlat', 'nlon']).compute()\n",
    "ds_atl_woa['PO4'] = esmlab.weighted_mean(ds_woa['PO4']*mask3d.isel(region=regnum), weights=ds.TAREA, dim=['nlat', 'nlon']).compute()\n",
    "ds_atl_woa['SiO3'] = esmlab.weighted_mean(ds_woa['SiO3']*mask3d.isel(region=regnum), weights=ds.TAREA, dim=['nlat', 'nlon']).compute()\n",
    "ds_atl_woa['O2'] = esmlab.weighted_mean(ds_woa['O2']*mask3d.isel(region=regnum), weights=ds.TAREA, dim=['nlat', 'nlon']).compute()\n",
    "ds_atl_woa['AOU'] = esmlab.weighted_mean(ds_woa['AOU']*mask3d.isel(region=regnum), weights=ds.TAREA, dim=['nlat', 'nlon']).compute()"
   ]
  },
  {
   "cell_type": "code",
   "execution_count": null,
   "metadata": {},
   "outputs": [],
   "source": [
    "fig = plt.figure(figsize=(15,10))\n",
    "\n",
    "#COLUMN 1  - NO3\n",
    "ax = fig.add_subplot(2,3,1)\n",
    "ax.set_title('Atlantic basin mean NO$_3$')\n",
    "ax.plot(ds_atl['NO3'].values, depths, label='CESM',linewidth=3)\n",
    "ax.plot(ds_atl_woa['NO3'].values, depths, label='WOA',linewidth=3)\n",
    "ax.legend()\n",
    "ax.set(ylabel='depth (m)',xlabel='NO$_3$ (mmol m$^{-3}$)')\n",
    "plt.gca().invert_yaxis()\n",
    "\n",
    "#COLUMN 2  - PO4\n",
    "ax = fig.add_subplot(2,3,2)\n",
    "ax.set_title('Atlantic basin mean PO$_4$')\n",
    "ax.plot(ds_atl['PO4'].values, depths, label='CESM',linewidth=3)\n",
    "ax.plot(ds_atl_woa['PO4'].values, depths, label='WOA',linewidth=3)\n",
    "ax.legend()\n",
    "ax.set(ylabel='depth (m)',xlabel='PO$_4$ (mmol m$^{-3}$)')\n",
    "plt.gca().invert_yaxis()\n",
    "\n",
    "#COLUMN 3  - SiO3\n",
    "ax = fig.add_subplot(2,3,3)\n",
    "ax.set_title('Atlantic basin mean SiO$_3$')\n",
    "ax.plot(ds_atl['SiO3'].values, depths, label='CESM',linewidth=3)\n",
    "ax.plot(ds_atl_woa['SiO3'].values, depths, label='WOA',linewidth=3)\n",
    "ax.legend()\n",
    "ax.set(ylabel='depth (m)',xlabel='SiO$_3$ (mmol m$^{-3}$)')\n",
    "plt.gca().invert_yaxis()\n",
    "\n",
    "\n",
    "#COLUMN 1  - NO3 bias\n",
    "ax = fig.add_subplot(2,3,4)\n",
    "ax.plot(ds_atl['NO3'].values - ds_atl_woa['NO3'].values, depths, label='bias',linewidth=3, color='green')\n",
    "ax.legend()\n",
    "ax.set(ylabel='depth (m)',xlabel='NO$_3$ bias (mmol m$^{-3}$)')\n",
    "plt.gca().invert_yaxis()\n",
    "\n",
    "#COLUMN 2  - PO4 bias\n",
    "ax = fig.add_subplot(2,3,5)\n",
    "ax.plot(ds_atl['PO4'].values - ds_atl_woa['PO4'].values, depths, label='bias',linewidth=3, color='green')\n",
    "ax.legend()\n",
    "ax.set(ylabel='depth (m)',xlabel='PO$_4$ bias (mmol m$^{-3}$)')\n",
    "plt.gca().invert_yaxis()\n",
    "\n",
    "#COLUMN 3  - SiO3 bias\n",
    "ax = fig.add_subplot(2,3,6)\n",
    "ax.plot(ds_atl['SiO3'].values - ds_atl_woa['SiO3'].values, depths, label='bias',linewidth=3, color='green')\n",
    "ax.legend()\n",
    "ax.set(ylabel='depth (m)',xlabel='SiO$_3$ bias (mmol m$^{-3}$)')\n",
    "plt.gca().invert_yaxis()"
   ]
  },
  {
   "cell_type": "code",
   "execution_count": null,
   "metadata": {},
   "outputs": [],
   "source": [
    "fig = plt.figure(figsize=(12,10))\n",
    "\n",
    "#COLUMN 1  - O2\n",
    "ax = fig.add_subplot(2,2,1)\n",
    "ax.set_title('Atlantic mean O$_2$')\n",
    "ax.plot(ds_atl['O2'].values, depths, label='CESM',linewidth=3)\n",
    "ax.plot(ds_atl_woa['O2'].values, depths, label='WOA',linewidth=3)\n",
    "ax.legend()\n",
    "ax.set(ylabel='depth (m)',xlabel='O$_2$ (mmol m$^{-3}$)')\n",
    "plt.gca().invert_yaxis()\n",
    "\n",
    "#COLUMN 1  - AOU\n",
    "ax = fig.add_subplot(2,2,2)\n",
    "ax.set_title('Atlantic mean AOU')\n",
    "ax.plot(ds_atl['AOU'].values, depths, label='CESM',linewidth=3)\n",
    "ax.plot(ds_atl_woa['AOU'].values, depths, label='WOA',linewidth=3)\n",
    "ax.legend()\n",
    "ax.set(ylabel='depth (m)',xlabel='AOU (mmol m$^{-3}$)')\n",
    "plt.gca().invert_yaxis()\n",
    "\n",
    "\n",
    "#COLUMN 1  - O2 bias\n",
    "ax = fig.add_subplot(2,2,3)\n",
    "ax.plot(ds_atl['O2'].values - ds_atl_woa['O2'].values, depths, label='CESM',linewidth=3, color='green')\n",
    "ax.legend()\n",
    "ax.set(ylabel='depth (m)',xlabel='O$_2$ bias (mmol m$^{-3}$)')\n",
    "plt.gca().invert_yaxis()\n",
    "\n",
    "#COLUMN 1  - AOU bias\n",
    "ax = fig.add_subplot(2,2,4)\n",
    "ax.plot(ds_atl['AOU'].values - ds_atl_woa['AOU'].values, depths, label='CESM',linewidth=3, color='green')\n",
    "ax.legend()\n",
    "ax.set(ylabel='depth (m)',xlabel='AOU bias (mmol m$^{-3}$)')\n",
    "plt.gca().invert_yaxis()"
   ]
  },
  {
   "cell_type": "markdown",
   "metadata": {},
   "source": [
    "### Look at drift in nutrients and O$_2$ at 500m"
   ]
  },
  {
   "cell_type": "code",
   "execution_count": null,
   "metadata": {},
   "outputs": [],
   "source": [
    "ds_annmean_ts"
   ]
  },
  {
   "cell_type": "markdown",
   "metadata": {},
   "source": [
    "#### Global"
   ]
  },
  {
   "cell_type": "code",
   "execution_count": null,
   "metadata": {},
   "outputs": [],
   "source": [
    "%%time\n",
    "ts_glob_500m = xr.Dataset({v: ds_annmean_ts[v] for v in ['time']})\n",
    "ts_glob_500m['O2'] = esmlab.weighted_mean(ds_annmean_ts['O2'].isel(z_t=32), weights=area, dim=['nlat', 'nlon']).compute()\n",
    "ts_glob_500m['PO4'] = esmlab.weighted_mean(ds_annmean_ts['PO4'].isel(z_t=32), weights=area, dim=['nlat', 'nlon']).compute()\n",
    "ts_glob_500m['NO3'] = esmlab.weighted_mean(ds_annmean_ts['NO3'].isel(z_t=32), weights=area, dim=['nlat', 'nlon']).compute()\n",
    "ts_glob_500m['SiO3'] = esmlab.weighted_mean(ds_annmean_ts['SiO3'].isel(z_t=32), weights=area, dim=['nlat', 'nlon']).compute()"
   ]
  },
  {
   "cell_type": "markdown",
   "metadata": {},
   "source": [
    "#### Atlantic"
   ]
  },
  {
   "cell_type": "code",
   "execution_count": null,
   "metadata": {},
   "outputs": [],
   "source": [
    "ts_Atl = xr.Dataset({v: ds_annmean_ts[v] for v in ['time']})\n",
    "regnum=1\n",
    "ts_Atl['O2'] = esmlab.weighted_mean(ds_annmean_ts['O2'].isel(z_t=32)*mask3d.isel(region=regnum), weights=area, dim=['nlat', 'nlon']).compute()\n",
    "ts_Atl['PO4'] = esmlab.weighted_mean(ds_annmean_ts['PO4'].isel(z_t=32)*mask3d.isel(region=regnum), weights=area, dim=['nlat', 'nlon']).compute()\n",
    "ts_Atl['NO3'] = esmlab.weighted_mean(ds_annmean_ts['NO3'].isel(z_t=32)*mask3d.isel(region=regnum), weights=area, dim=['nlat', 'nlon']).compute()\n",
    "ts_Atl['SiO3'] = esmlab.weighted_mean(ds_annmean_ts['SiO3'].isel(z_t=32)*mask3d.isel(region=regnum), weights=area, dim=['nlat', 'nlon']).compute()"
   ]
  },
  {
   "cell_type": "markdown",
   "metadata": {},
   "source": [
    "#### Pacific"
   ]
  },
  {
   "cell_type": "code",
   "execution_count": null,
   "metadata": {},
   "outputs": [],
   "source": [
    "ts_Pac = xr.Dataset({v: ds_annmean_ts[v] for v in ['time']})\n",
    "regnum=2\n",
    "ts_Pac['O2'] = esmlab.weighted_mean(ds_annmean_ts['O2'].isel(z_t=32)*mask3d.isel(region=regnum), weights=area, dim=['nlat', 'nlon']).compute()\n",
    "ts_Pac['PO4'] = esmlab.weighted_mean(ds_annmean_ts['PO4'].isel(z_t=32)*mask3d.isel(region=regnum), weights=area, dim=['nlat', 'nlon']).compute()\n",
    "ts_Pac['NO3'] = esmlab.weighted_mean(ds_annmean_ts['NO3'].isel(z_t=32)*mask3d.isel(region=regnum), weights=area, dim=['nlat', 'nlon']).compute()\n",
    "ts_Pac['SiO3'] = esmlab.weighted_mean(ds_annmean_ts['SiO3'].isel(z_t=32)*mask3d.isel(region=regnum), weights=area, dim=['nlat', 'nlon']).compute()"
   ]
  },
  {
   "cell_type": "markdown",
   "metadata": {},
   "source": [
    "#### Indian"
   ]
  },
  {
   "cell_type": "code",
   "execution_count": null,
   "metadata": {},
   "outputs": [],
   "source": [
    "ts_Ind = xr.Dataset({v: ds_annmean_ts[v] for v in ['time']})\n",
    "regnum=3\n",
    "ts_Ind['O2'] = esmlab.weighted_mean(ds_annmean_ts['O2'].isel(z_t=32)*mask3d.isel(region=regnum), weights=area, dim=['nlat', 'nlon']).compute()\n",
    "ts_Ind['PO4'] = esmlab.weighted_mean(ds_annmean_ts['PO4'].isel(z_t=32)*mask3d.isel(region=regnum), weights=area, dim=['nlat', 'nlon']).compute()\n",
    "ts_Ind['NO3'] = esmlab.weighted_mean(ds_annmean_ts['NO3'].isel(z_t=32)*mask3d.isel(region=regnum), weights=area, dim=['nlat', 'nlon']).compute()\n",
    "ts_Ind['SiO3'] = esmlab.weighted_mean(ds_annmean_ts['SiO3'].isel(z_t=32)*mask3d.isel(region=regnum), weights=area, dim=['nlat', 'nlon']).compute()"
   ]
  },
  {
   "cell_type": "markdown",
   "metadata": {},
   "source": [
    "### Plot O$_2$ timeseries for each basin"
   ]
  },
  {
   "cell_type": "code",
   "execution_count": null,
   "metadata": {},
   "outputs": [],
   "source": [
    "fig = plt.figure(figsize=(16,5))\n",
    "\n",
    "ax = fig.add_subplot(1,3,1)\n",
    "ax.set_title('O$_2$ at 480m in the Atlantic')\n",
    "ax.scatter(years,ts_Atl['O2'],color='blue')\n",
    "ax.set(ylabel='O$_2$ (mmol m$^{-3}$)',xlabel='year of simulation')\n",
    "\n",
    "ax = fig.add_subplot(1,3,2)\n",
    "ax.set_title('O$_2$ at 480m in the Indian')\n",
    "ax.scatter(years,ts_Ind['O2'],color='blue')\n",
    "ax.set(ylabel='O$_2$ (mmol m$^{-3}$)',xlabel='year of simulation')\n",
    "\n",
    "ax = fig.add_subplot(1,3,3)\n",
    "ax.set_title('O$_2$ at 480m in the Pacific')\n",
    "ax.scatter(years,ts_Pac['O2'],color='blue')\n",
    "ax.set(ylabel='O$_2$ (mmol m$^{-3}$)',xlabel='year of simulation');"
   ]
  },
  {
   "cell_type": "markdown",
   "metadata": {},
   "source": [
    "### Plot global O$_2$ timeseries"
   ]
  },
  {
   "cell_type": "code",
   "execution_count": null,
   "metadata": {},
   "outputs": [],
   "source": [
    "fig = plt.figure(figsize=(16,5))\n",
    "\n",
    "ax = fig.add_subplot(1,1,1)\n",
    "ax.set_title('Global O$_2$ at 480m')\n",
    "ax.scatter(years,ts_glob_500m['O2'],color='blue')\n",
    "ax.set(ylabel='O$_2$ (mmol m$^{-3}$)',xlabel='year of simulation')"
   ]
  },
  {
   "cell_type": "markdown",
   "metadata": {},
   "source": [
    "### Plot PO$_4$ timeseries for basins"
   ]
  },
  {
   "cell_type": "code",
   "execution_count": null,
   "metadata": {},
   "outputs": [],
   "source": [
    "fig = plt.figure(figsize=(16,5))\n",
    "\n",
    "ax = fig.add_subplot(1,3,1)\n",
    "ax.set_title('PO$_4$ in the Atlantic')\n",
    "ax.scatter(years,ts_Atl['PO4'],color='blue')\n",
    "ax.set(ylabel='PO$_4$ (mmol m$^{-3}$)',xlabel='year of simulation')\n",
    "\n",
    "ax = fig.add_subplot(1,3,2)\n",
    "ax.set_title('PO$_4$ in the Indian')\n",
    "ax.scatter(years,ts_Ind['PO4'],color='blue')\n",
    "ax.set(ylabel='PO$_4$ (mmol m$^{-3}$)',xlabel='year of simulation')\n",
    "\n",
    "ax = fig.add_subplot(1,3,3)\n",
    "ax.set_title('PO$_4$ in the Pacific')\n",
    "ax.scatter(years,ts_Pac['PO4'],color='blue')\n",
    "ax.set(ylabel='PO$_4$ (mmol m$^{-3}$)',xlabel='year of simulation');"
   ]
  },
  {
   "cell_type": "markdown",
   "metadata": {},
   "source": [
    "### Plot global PO$_4$ timeseries"
   ]
  },
  {
   "cell_type": "code",
   "execution_count": null,
   "metadata": {},
   "outputs": [],
   "source": [
    "fig = plt.figure(figsize=(16,5))\n",
    "\n",
    "ax = fig.add_subplot(1,1,1)\n",
    "ax.set_title('Global PO$_4$ at 480m')\n",
    "ax.scatter(years,ts_glob_500m['PO4'],color='blue')\n",
    "ax.set(ylabel='PO$_4$ (mmol m$^{-3}$)',xlabel='year of simulation')"
   ]
  },
  {
   "cell_type": "markdown",
   "metadata": {},
   "source": [
    "### Plot NO$_3$ timeseries for basins"
   ]
  },
  {
   "cell_type": "code",
   "execution_count": null,
   "metadata": {},
   "outputs": [],
   "source": [
    "fig = plt.figure(figsize=(16,5))\n",
    "\n",
    "ax = fig.add_subplot(1,3,1)\n",
    "ax.set_title('NO$_3$ in the Atlantic')\n",
    "ax.scatter(years,ts_Atl['NO3'],color='blue')\n",
    "ax.set(ylabel='NO$_3$ (mmol m$^{-3}$)',xlabel='year of simulation')\n",
    "\n",
    "ax = fig.add_subplot(1,3,2)\n",
    "ax.set_title('NO$_3$ in the Indian')\n",
    "ax.scatter(years,ts_Ind['NO3'],color='blue')\n",
    "ax.set(ylabel='NO$_3$ (mmol m$^{-3}$)',xlabel='year of simulation')\n",
    "\n",
    "ax = fig.add_subplot(1,3,3)\n",
    "ax.set_title('NO$_3$ in the Pacific')\n",
    "ax.scatter(years,ts_Pac['NO3'],color='blue')\n",
    "ax.set(ylabel='NO$_3$ (mmol m$^{-3}$)',xlabel='year of simulation');"
   ]
  },
  {
   "cell_type": "markdown",
   "metadata": {},
   "source": [
    "### Plot global NO$_3$ timeseries"
   ]
  },
  {
   "cell_type": "code",
   "execution_count": null,
   "metadata": {},
   "outputs": [],
   "source": [
    "fig = plt.figure(figsize=(16,5))\n",
    "\n",
    "ax = fig.add_subplot(1,1,1)\n",
    "ax.set_title('Global NO$_3$ at 480m')\n",
    "ax.scatter(years,ts_glob_500m['NO3'],color='blue')\n",
    "ax.set(ylabel='NO$_3$ (mmol m$^{-3}$)',xlabel='year of simulation')"
   ]
  },
  {
   "cell_type": "markdown",
   "metadata": {},
   "source": [
    "### Plot the SiO3 timeseries for each basin"
   ]
  },
  {
   "cell_type": "code",
   "execution_count": null,
   "metadata": {},
   "outputs": [],
   "source": [
    "fig = plt.figure(figsize=(16,5))\n",
    "\n",
    "ax = fig.add_subplot(1,3,1)\n",
    "ax.set_title('SiO$_3$ in the Atlantic')\n",
    "ax.scatter(years,ts_Atl['SiO3'],color='blue')\n",
    "ax.set(ylabel='SiO$_3$ (mmol m$^{-3}$)',xlabel='year of simulation')\n",
    "\n",
    "ax = fig.add_subplot(1,3,2)\n",
    "ax.set_title('SiO$_3$ in the Indian')\n",
    "ax.scatter(years,ts_Ind['SiO3'],color='blue')\n",
    "ax.set(ylabel='SiO$_3$ (mmol m$^{-3}$)',xlabel='year of simulation')\n",
    "\n",
    "ax = fig.add_subplot(1,3,3)\n",
    "ax.set_title('SiO$_3$ in the Pacific')\n",
    "ax.scatter(years,ts_Pac['SiO3'],color='blue')\n",
    "ax.set(ylabel='SiO$_3$ (mmol m$^{-3}$)',xlabel='year of simulation');"
   ]
  },
  {
   "cell_type": "markdown",
   "metadata": {},
   "source": [
    "### Plot the global SiO$_3$ timeseries"
   ]
  },
  {
   "cell_type": "code",
   "execution_count": null,
   "metadata": {},
   "outputs": [],
   "source": [
    "fig = plt.figure(figsize=(16,5))\n",
    "\n",
    "ax = fig.add_subplot(1,1,1)\n",
    "ax.set_title('Global SiO$_3$ at 480m')\n",
    "ax.scatter(years,ts_glob_500m['SiO3'],color='blue')\n",
    "ax.set(ylabel='SiO$_3$ (mmol m$^{-3}$)',xlabel='year of simulation')"
   ]
  },
  {
   "cell_type": "markdown",
   "metadata": {},
   "source": [
    "## Hovmoller diagrams of nutient/O2 biases (depth versus time)"
   ]
  },
  {
   "cell_type": "markdown",
   "metadata": {},
   "source": [
    "#### WOA for making biases"
   ]
  },
  {
   "cell_type": "code",
   "execution_count": null,
   "metadata": {},
   "outputs": [],
   "source": [
    "woa_Pac = xr.Dataset({v: ds_woa[v] for v in ['z_t']})\n",
    "regnum=2\n",
    "woa_Pac['O2'] = esmlab.weighted_mean(ds_woa['O2']*mask3d.isel(region=regnum), weights=area, dim=['nlat', 'nlon']).compute()\n",
    "woa_Pac['NO3'] = esmlab.weighted_mean(ds_woa['NO3']*mask3d.isel(region=regnum), weights=area, dim=['nlat', 'nlon']).compute()\n",
    "woa_Pac['PO4'] = esmlab.weighted_mean(ds_woa['PO4']*mask3d.isel(region=regnum), weights=area, dim=['nlat', 'nlon']).compute()\n",
    "woa_Pac['AOU'] = esmlab.weighted_mean(ds_woa['AOU']*mask3d.isel(region=regnum), weights=area, dim=['nlat', 'nlon']).compute()\n",
    "woa_Pac['SiO3'] = esmlab.weighted_mean(ds_woa['SiO3']*mask3d.isel(region=regnum), weights=area, dim=['nlat', 'nlon']).compute()"
   ]
  },
  {
   "cell_type": "code",
   "execution_count": null,
   "metadata": {},
   "outputs": [],
   "source": [
    "woa_Atl = xr.Dataset({v: ds_woa[v] for v in ['z_t']})\n",
    "regnum=1\n",
    "woa_Atl['O2'] = esmlab.weighted_mean(ds_woa['O2']*mask3d.isel(region=regnum), weights=area, dim=['nlat', 'nlon']).compute()\n",
    "woa_Atl['NO3'] = esmlab.weighted_mean(ds_woa['NO3']*mask3d.isel(region=regnum), weights=area, dim=['nlat', 'nlon']).compute()\n",
    "woa_Atl['PO4'] = esmlab.weighted_mean(ds_woa['PO4']*mask3d.isel(region=regnum), weights=area, dim=['nlat', 'nlon']).compute()\n",
    "woa_Atl['AOU'] = esmlab.weighted_mean(ds_woa['AOU']*mask3d.isel(region=regnum), weights=area, dim=['nlat', 'nlon']).compute()\n",
    "woa_Atl['SiO3'] = esmlab.weighted_mean(ds_woa['SiO3']*mask3d.isel(region=regnum), weights=area, dim=['nlat', 'nlon']).compute()"
   ]
  },
  {
   "cell_type": "code",
   "execution_count": null,
   "metadata": {},
   "outputs": [],
   "source": [
    "woa_global = xr.Dataset({v: ds_woa[v] for v in ['z_t']})\n",
    "woa_global['O2'] = esmlab.weighted_mean(ds_woa['O2'], weights=area, dim=['nlat', 'nlon']).compute()\n",
    "woa_global['NO3'] = esmlab.weighted_mean(ds_woa['NO3'], weights=area, dim=['nlat', 'nlon']).compute()\n",
    "woa_global['PO4'] = esmlab.weighted_mean(ds_woa['PO4'], weights=area, dim=['nlat', 'nlon']).compute()\n",
    "woa_global['AOU'] = esmlab.weighted_mean(ds_woa['AOU'], weights=area, dim=['nlat', 'nlon']).compute()\n",
    "woa_global['SiO3'] = esmlab.weighted_mean(ds_woa['SiO3'], weights=area, dim=['nlat', 'nlon']).compute()"
   ]
  },
  {
   "cell_type": "markdown",
   "metadata": {},
   "source": [
    "#### CESM timeseries: Pacific, Alantic, global"
   ]
  },
  {
   "cell_type": "markdown",
   "metadata": {},
   "source": [
    "Pacific"
   ]
  },
  {
   "cell_type": "code",
   "execution_count": null,
   "metadata": {},
   "outputs": [],
   "source": [
    "%%time\n",
    "regnum=2\n",
    "ts_Pac = xr.Dataset({v: ds_annmean_ts[v] for v in ['time','z_t']})\n",
    "ts_Pac['O2'] = esmlab.weighted_mean(ds_annmean_ts['O2']*mask3d.isel(region=regnum), weights=area, dim=['nlat', 'nlon']).compute()\n",
    "ts_Pac['PO4'] = esmlab.weighted_mean(ds_annmean_ts['PO4']*mask3d.isel(region=regnum), weights=area, dim=['nlat', 'nlon']).compute()\n",
    "ts_Pac['NO3'] = esmlab.weighted_mean(ds_annmean_ts['NO3']*mask3d.isel(region=regnum), weights=area, dim=['nlat', 'nlon']).compute()\n",
    "ts_Pac['AOU'] = esmlab.weighted_mean(ds_annmean_ts['AOU']*mask3d.isel(region=regnum), weights=area, dim=['nlat', 'nlon']).compute()\n",
    "ts_Pac['SiO3'] = esmlab.weighted_mean(ds_annmean_ts['SiO3']*mask3d.isel(region=regnum), weights=area, dim=['nlat', 'nlon']).compute()"
   ]
  },
  {
   "cell_type": "code",
   "execution_count": null,
   "metadata": {},
   "outputs": [],
   "source": [
    "diff_Pac = ts_Pac - woa_Pac\n",
    "diff_Pac=diff_Pac.transpose()\n",
    "diff_Pac_top=diff_Pac.isel(z_t=slice(0,40))\n",
    "diff_Pac_bottom=diff_Pac.isel(z_t=slice(40,60))"
   ]
  },
  {
   "cell_type": "markdown",
   "metadata": {},
   "source": [
    "Atlantic"
   ]
  },
  {
   "cell_type": "code",
   "execution_count": null,
   "metadata": {},
   "outputs": [],
   "source": [
    "%%time\n",
    "regnum=1\n",
    "ts_Atl = xr.Dataset({v: ds_annmean_ts[v] for v in ['time','z_t']})\n",
    "ts_Atl['O2'] = esmlab.weighted_mean(ds_annmean_ts['O2']*mask3d.isel(region=regnum), weights=area, dim=['nlat', 'nlon']).compute()\n",
    "ts_Atl['PO4'] = esmlab.weighted_mean(ds_annmean_ts['PO4']*mask3d.isel(region=regnum), weights=area, dim=['nlat', 'nlon']).compute()\n",
    "ts_Atl['NO3'] = esmlab.weighted_mean(ds_annmean_ts['NO3']*mask3d.isel(region=regnum), weights=area, dim=['nlat', 'nlon']).compute()\n",
    "ts_Atl['AOU'] = esmlab.weighted_mean(ds_annmean_ts['AOU']*mask3d.isel(region=regnum), weights=area, dim=['nlat', 'nlon']).compute()\n",
    "ts_Atl['SiO3'] = esmlab.weighted_mean(ds_annmean_ts['SiO3']*mask3d.isel(region=regnum), weights=area, dim=['nlat', 'nlon']).compute()"
   ]
  },
  {
   "cell_type": "code",
   "execution_count": null,
   "metadata": {},
   "outputs": [],
   "source": [
    "diff_Atl = ts_Atl - woa_Atl\n",
    "diff_Atl=diff_Atl.transpose()\n",
    "diff_Atl_top=diff_Atl.isel(z_t=slice(0,40))\n",
    "diff_Atl_bottom=diff_Atl.isel(z_t=slice(40,60))"
   ]
  },
  {
   "cell_type": "markdown",
   "metadata": {},
   "source": [
    "Global"
   ]
  },
  {
   "cell_type": "code",
   "execution_count": null,
   "metadata": {},
   "outputs": [],
   "source": [
    "%%time\n",
    "ts_global = xr.Dataset({v: ds_annmean_ts[v] for v in ['time','z_t']})\n",
    "ts_global['O2'] = esmlab.weighted_mean(ds_annmean_ts['O2'], weights=area, dim=['nlat', 'nlon']).compute()\n",
    "ts_global['PO4'] = esmlab.weighted_mean(ds_annmean_ts['PO4'], weights=area, dim=['nlat', 'nlon']).compute()\n",
    "ts_global['NO3'] = esmlab.weighted_mean(ds_annmean_ts['NO3'], weights=area, dim=['nlat', 'nlon']).compute()\n",
    "ts_global['AOU'] = esmlab.weighted_mean(ds_annmean_ts['AOU'], weights=area, dim=['nlat', 'nlon']).compute()\n",
    "ts_global['SiO3'] = esmlab.weighted_mean(ds_annmean_ts['SiO3'], weights=area, dim=['nlat', 'nlon']).compute()"
   ]
  },
  {
   "cell_type": "code",
   "execution_count": null,
   "metadata": {},
   "outputs": [],
   "source": [
    "diff_global = ts_global - woa_global\n",
    "diff_global=diff_global.transpose()\n",
    "diff_global_top=diff_global.isel(z_t=slice(0,40))\n",
    "diff_global_bottom=diff_global.isel(z_t=slice(40,60))"
   ]
  },
  {
   "cell_type": "markdown",
   "metadata": {},
   "source": [
    "#### Set up dims for plotting"
   ]
  },
  {
   "cell_type": "code",
   "execution_count": null,
   "metadata": {},
   "outputs": [],
   "source": [
    "z_top=depths.isel(z_t=slice(0,40))\n",
    "z_bottom=depths.isel(z_t=slice(40,60))"
   ]
  },
  {
   "cell_type": "markdown",
   "metadata": {},
   "source": [
    "## O$_2$"
   ]
  },
  {
   "cell_type": "markdown",
   "metadata": {},
   "source": [
    "#### Plot Pacific O$_2$ bias"
   ]
  },
  {
   "cell_type": "code",
   "execution_count": null,
   "metadata": {},
   "outputs": [],
   "source": [
    "fig = plt.figure(figsize=(13,6))\n",
    "\n",
    "plt.suptitle('Pacific O$_2$', fontsize=14)\n",
    "\n",
    "ax = fig.add_subplot(2,1,1)\n",
    "levels = [-14,-12,-10,-8,-6,-4,-2,0,2,4,6,8,10,12,14]\n",
    "pc=ax.contourf(years, z_top, diff_Pac_top['O2'], levels, cmap='bwr')\n",
    "contour = plt.contour(years, z_top, diff_Pac_top['O2'], levels, colors='k')\n",
    "plt.clabel(contour, colors = 'k', fmt = '%2.0f', fontsize=12)\n",
    "ax.set(ylabel='depth (m)') #, xlabel='time (simulation years)')\n",
    "ax.invert_yaxis()\n",
    "ax.xaxis.tick_top()\n",
    "\n",
    "ax = fig.add_subplot(2,1,2)\n",
    "pc=ax.contourf(years, z_bottom, diff_Pac_bottom['O2'], levels, cmap='bwr')\n",
    "contour = plt.contour(years, z_bottom, diff_Pac_bottom['O2'], levels, colors='k')\n",
    "plt.clabel(contour, colors = 'k', fmt = '%2.0f', fontsize=12)\n",
    "ax.set(ylabel='depth (m)', xlabel='time (simulation years)')\n",
    "ax.invert_yaxis()\n",
    "\n",
    "fig.subplots_adjust(right=0.8,hspace=0)\n",
    "cbar_ax = fig.add_axes([0.85, 0.15, 0.02, 0.7])\n",
    "cbar = fig.colorbar(pc, cax=cbar_ax, label='O$_2$ (mmol/m3)')"
   ]
  },
  {
   "cell_type": "code",
   "execution_count": null,
   "metadata": {},
   "outputs": [],
   "source": [
    "# #this cell plots normal depth versus time plot for Pacific O2\n",
    "# fig = plt.figure(figsize=(15,7))\n",
    "# plt.suptitle('Pacific', fontsize=12)\n",
    "# ax = fig.add_subplot(1,1,1)\n",
    "# ax.set_title('AOU', fontsize=10)\n",
    "# levels = [-10, -8,-6,-4, -2, 0, 2, 4,6,8,10]\n",
    "# pc=ax.contourf(years, depths, diff_Pac['O2'], levels, cmap='bwr')\n",
    "# contour = plt.contour(years, depths, diff_Pac['O2'], levels, colors='k')\n",
    "# plt.clabel(contour, colors = 'k', fmt = '%2.0f', fontsize=12)\n",
    "# cbar1 = fig.colorbar(pc, ax=ax,extend='both',label='AOU (mmol/m3)')\n",
    "# ax.set(ylabel='depth (m)', xlabel='time (simulation years)')\n",
    "# ax.invert_yaxis()"
   ]
  },
  {
   "cell_type": "markdown",
   "metadata": {},
   "source": [
    "#### Plot Atlantic O2 bias"
   ]
  },
  {
   "cell_type": "code",
   "execution_count": null,
   "metadata": {},
   "outputs": [],
   "source": [
    "fig = plt.figure(figsize=(13,6))\n",
    "\n",
    "plt.suptitle('Atlantic O$_2$', fontsize=14)\n",
    "\n",
    "ax = fig.add_subplot(2,1,1)\n",
    "levels = [-12,-10,-8,-6,-4,-2,0,2,4,6,8,10,12]\n",
    "pc=ax.contourf(years, z_top, diff_Atl_top['O2'], levels, cmap='bwr')\n",
    "contour = plt.contour(years, z_top, diff_Atl_top['O2'], levels, colors='k')\n",
    "plt.clabel(contour, colors = 'k', fmt = '%2.0f', fontsize=12)\n",
    "ax.set(ylabel='depth (m)') #, xlabel='time (simulation years)')\n",
    "ax.invert_yaxis()\n",
    "ax.xaxis.tick_top()\n",
    "\n",
    "ax = fig.add_subplot(2,1,2)\n",
    "pc=ax.contourf(years, z_bottom, diff_Atl_bottom['O2'], levels, cmap='bwr')\n",
    "contour = plt.contour(years, z_bottom, diff_Atl_bottom['O2'], levels, colors='k')\n",
    "plt.clabel(contour, colors = 'k', fmt = '%2.0f', fontsize=12)\n",
    "ax.set(ylabel='depth (m)', xlabel='time (simulation years)')\n",
    "ax.invert_yaxis()\n",
    "\n",
    "fig.subplots_adjust(right=0.8,hspace=0)\n",
    "cbar_ax = fig.add_axes([0.85, 0.15, 0.02, 0.7])\n",
    "cbar = fig.colorbar(pc, cax=cbar_ax, label='O$_2$ (mmol/m3)')"
   ]
  },
  {
   "cell_type": "markdown",
   "metadata": {},
   "source": [
    "#### Plot Global O2 bias"
   ]
  },
  {
   "cell_type": "code",
   "execution_count": null,
   "metadata": {},
   "outputs": [],
   "source": [
    "fig = plt.figure(figsize=(13,6))\n",
    "\n",
    "plt.suptitle('Global O$_2$', fontsize=14)\n",
    "\n",
    "ax = fig.add_subplot(2,1,1)\n",
    "levels = [-26,-24,-22,-20,-18,-16,-14,-12,-10,-8,-6,-4,-2,0,2,4,6,8,10,12,14,16,18,20,22,24,26]\n",
    "pc=ax.contourf(years, z_top, diff_global_top['O2'], levels, cmap='bwr')\n",
    "contour = plt.contour(years, z_top, diff_global_top['O2'], levels, colors='k')\n",
    "plt.clabel(contour, colors = 'k', fmt = '%2.0f', fontsize=12)\n",
    "ax.set(ylabel='depth (m)') #, xlabel='time (simulation years)')\n",
    "ax.invert_yaxis()\n",
    "ax.xaxis.tick_top()\n",
    "\n",
    "ax = fig.add_subplot(2,1,2)\n",
    "pc=ax.contourf(years, z_bottom, diff_global_bottom['O2'], levels, cmap='bwr')\n",
    "contour = plt.contour(years, z_bottom, diff_global_bottom['O2'], levels, colors='k')\n",
    "plt.clabel(contour, colors = 'k', fmt = '%2.0f', fontsize=12)\n",
    "ax.set(ylabel='depth (m)', xlabel='time (simulation years)')\n",
    "ax.invert_yaxis()\n",
    "\n",
    "fig.subplots_adjust(right=0.8,hspace=0)\n",
    "cbar_ax = fig.add_axes([0.85, 0.15, 0.02, 0.7])\n",
    "cbar = fig.colorbar(pc, cax=cbar_ax, label='O$_2$ (mmol/m3)')"
   ]
  },
  {
   "cell_type": "markdown",
   "metadata": {},
   "source": [
    "## NO$_3$"
   ]
  },
  {
   "cell_type": "markdown",
   "metadata": {},
   "source": [
    "#### Plot Pacific NO$_3$ bias"
   ]
  },
  {
   "cell_type": "code",
   "execution_count": null,
   "metadata": {},
   "outputs": [],
   "source": [
    "fig = plt.figure(figsize=(13,6))\n",
    "\n",
    "plt.suptitle('Pacific NO$_3$', fontsize=14)\n",
    "\n",
    "ax = fig.add_subplot(2,1,1)\n",
    "levels = [-1.4,-1.2,-1,-0.8,-0.6,-0.4,-0.2,0,0.2,0.4,0.6,0.8,1,1.2,1.4]\n",
    "pc=ax.contourf(years, z_top, diff_Pac_top['NO3'], levels, cmap='bwr')\n",
    "contour = plt.contour(years, z_top, diff_Pac_top['NO3'], levels, colors='k')\n",
    "plt.clabel(contour, colors = 'k', fmt = '%2.1f', fontsize=12)\n",
    "ax.set(ylabel='depth (m)') #, xlabel='time (simulation years)')\n",
    "ax.invert_yaxis()\n",
    "ax.xaxis.tick_top()\n",
    "\n",
    "ax = fig.add_subplot(2,1,2)\n",
    "pc=ax.contourf(years, z_bottom, diff_Pac_bottom['NO3'], levels, cmap='bwr')\n",
    "contour = plt.contour(years, z_bottom, diff_Pac_bottom['NO3'], levels, colors='k')\n",
    "plt.clabel(contour, colors = 'k', fmt = '%2.0f', fontsize=12)\n",
    "ax.set(ylabel='depth (m)', xlabel='time (simulation years)')\n",
    "ax.invert_yaxis()\n",
    "\n",
    "fig.subplots_adjust(right=0.8,hspace=0)\n",
    "cbar_ax = fig.add_axes([0.85, 0.15, 0.02, 0.7])\n",
    "cbar = fig.colorbar(pc, cax=cbar_ax, label='NO$_3$ (mmol/m3)')"
   ]
  },
  {
   "cell_type": "markdown",
   "metadata": {},
   "source": [
    "#### Plot Atlantic NO$_3$ bias"
   ]
  },
  {
   "cell_type": "code",
   "execution_count": null,
   "metadata": {},
   "outputs": [],
   "source": [
    "fig = plt.figure(figsize=(13,6))\n",
    "\n",
    "plt.suptitle('Atlantic NO$_3$', fontsize=14)\n",
    "\n",
    "ax = fig.add_subplot(2,1,1)\n",
    "levels = [-1,-0.8,-0.6,-0.4,-0.2,0,0.2,0.4,0.6,0.8,1]\n",
    "pc=ax.contourf(years, z_top, diff_Atl_top['NO3'], levels, cmap='bwr')\n",
    "contour = plt.contour(years, z_top, diff_Atl_top['NO3'], levels, colors='k')\n",
    "plt.clabel(contour, colors = 'k', fmt = '%2.1f', fontsize=12)\n",
    "ax.set(ylabel='depth (m)') #, xlabel='time (simulation years)')\n",
    "ax.invert_yaxis()\n",
    "ax.xaxis.tick_top()\n",
    "\n",
    "ax = fig.add_subplot(2,1,2)\n",
    "pc=ax.contourf(years, z_bottom, diff_Atl_bottom['NO3'], levels, cmap='bwr')\n",
    "contour = plt.contour(years, z_bottom, diff_Atl_bottom['NO3'], levels, colors='k')\n",
    "plt.clabel(contour, colors = 'k', fmt = '%2.0f', fontsize=12)\n",
    "ax.set(ylabel='depth (m)', xlabel='time (simulation years)')\n",
    "ax.invert_yaxis()\n",
    "\n",
    "fig.subplots_adjust(right=0.8,hspace=0)\n",
    "cbar_ax = fig.add_axes([0.85, 0.15, 0.02, 0.7])\n",
    "cbar = fig.colorbar(pc, cax=cbar_ax, label='NO$_3$ (mmol/m3)')"
   ]
  },
  {
   "cell_type": "code",
   "execution_count": null,
   "metadata": {},
   "outputs": [],
   "source": [
    "#this cell plots normal depth versus time plot for Atlantic NO3 cause the above one looks a bit weird between upper and lower panel\n",
    "fig = plt.figure(figsize=(15,7))\n",
    "plt.suptitle('Atlantic', fontsize=12)\n",
    "ax = fig.add_subplot(1,1,1)\n",
    "ax.set_title('O$_2$', fontsize=10)\n",
    "levels = [-1,-0.8,-0.6,-0.4,-0.2,0,0.2,0.4,0.6,0.8,1]\n",
    "pc=ax.contourf(years, depths, diff_Atl['NO3'], levels, cmap='bwr')\n",
    "contour = plt.contour(years, depths, diff_Atl['NO3'], levels, colors='k')\n",
    "plt.clabel(contour, colors = 'k', fmt = '%2.0f', fontsize=12)\n",
    "cbar1 = fig.colorbar(pc, ax=ax,extend='both',label='O2 (mmol/m3)')\n",
    "ax.set(ylabel='depth (m)', xlabel='time (simulation years)')\n",
    "ax.invert_yaxis()"
   ]
  },
  {
   "cell_type": "markdown",
   "metadata": {},
   "source": [
    "#### Global NO$_3$ bias"
   ]
  },
  {
   "cell_type": "code",
   "execution_count": null,
   "metadata": {},
   "outputs": [],
   "source": [
    "fig = plt.figure(figsize=(13,6))\n",
    "\n",
    "plt.suptitle('Global NO$_3$', fontsize=14)\n",
    "\n",
    "ax = fig.add_subplot(2,1,1)\n",
    "levels = [-1.6,-1.4,-1.2,-1,-0.8,-0.6,-0.4,-0.2,0,0.2,0.4,0.6,0.8,1,1.2,1.4,1.6]\n",
    "pc=ax.contourf(years, z_top, diff_global_top['NO3'], levels, cmap='bwr')\n",
    "contour = plt.contour(years, z_top, diff_global_top['NO3'], levels, colors='k')\n",
    "plt.clabel(contour, colors = 'k', fmt = '%2.1f', fontsize=12)\n",
    "ax.set(ylabel='depth (m)') #, xlabel='time (simulation years)')\n",
    "ax.invert_yaxis()\n",
    "ax.xaxis.tick_top()\n",
    "\n",
    "ax = fig.add_subplot(2,1,2)\n",
    "pc=ax.contourf(years, z_bottom, diff_global_bottom['NO3'], levels, cmap='bwr')\n",
    "contour = plt.contour(years, z_bottom, diff_global_bottom['NO3'], levels, colors='k')\n",
    "plt.clabel(contour, colors = 'k', fmt = '%2.0f', fontsize=12)\n",
    "ax.set(ylabel='depth (m)', xlabel='time (simulation years)')\n",
    "ax.invert_yaxis()\n",
    "\n",
    "fig.subplots_adjust(right=0.8,hspace=0)\n",
    "cbar_ax = fig.add_axes([0.85, 0.15, 0.02, 0.7])\n",
    "cbar = fig.colorbar(pc, cax=cbar_ax, label='NO$_3$ (mmol/m3)')"
   ]
  },
  {
   "cell_type": "markdown",
   "metadata": {},
   "source": [
    "## SiO$_3$"
   ]
  },
  {
   "cell_type": "markdown",
   "metadata": {},
   "source": [
    "#### Atlantic SiO$_3$ bias"
   ]
  },
  {
   "cell_type": "code",
   "execution_count": null,
   "metadata": {},
   "outputs": [],
   "source": [
    "fig = plt.figure(figsize=(13,6))\n",
    "\n",
    "plt.suptitle('Atlantic SiO$_3$', fontsize=14)\n",
    "\n",
    "ax = fig.add_subplot(2,1,1)\n",
    "levels = [-4, -3,-2,-1.5,-1,-0.5,0,0.5,1,1.5,2,3,4]\n",
    "pc=ax.contourf(years, z_top, diff_Atl_top['SiO3'], levels, cmap='bwr')\n",
    "contour = plt.contour(years, z_top, diff_Atl_top['SiO3'], levels, colors='k')\n",
    "plt.clabel(contour, colors = 'k', fmt = '%2.1f', fontsize=12)\n",
    "ax.set(ylabel='depth (m)') #, xlabel='time (simulation years)')\n",
    "ax.invert_yaxis()\n",
    "ax.xaxis.tick_top()\n",
    "\n",
    "ax = fig.add_subplot(2,1,2)\n",
    "pc=ax.contourf(years, z_bottom, diff_Atl_bottom['SiO3'], levels, cmap='bwr')\n",
    "contour = plt.contour(years, z_bottom, diff_Atl_bottom['SiO3'], levels, colors='k')\n",
    "plt.clabel(contour, colors = 'k', fmt = '%2.0f', fontsize=12)\n",
    "ax.set(ylabel='depth (m)', xlabel='time (simulation years)')\n",
    "ax.invert_yaxis()\n",
    "\n",
    "fig.subplots_adjust(right=0.8,hspace=0)\n",
    "cbar_ax = fig.add_axes([0.85, 0.15, 0.02, 0.7])\n",
    "cbar = fig.colorbar(pc, cax=cbar_ax, label='SiO$_3$ (mmol/m3)')"
   ]
  },
  {
   "cell_type": "markdown",
   "metadata": {},
   "source": [
    "#### Pacific SiO$_3$ bias"
   ]
  },
  {
   "cell_type": "code",
   "execution_count": null,
   "metadata": {},
   "outputs": [],
   "source": [
    "fig = plt.figure(figsize=(13,6))\n",
    "\n",
    "plt.suptitle('Pacific SiO$_3$', fontsize=14)\n",
    "\n",
    "ax = fig.add_subplot(2,1,1)\n",
    "levels = [-4, -3,-2,-1.5,-1,-0.5,0,0.5,1,1.5,2,3,4]\n",
    "pc=ax.contourf(years, z_top, diff_Pac_top['SiO3'], levels, cmap='bwr')\n",
    "contour = plt.contour(years, z_top, diff_Pac_top['SiO3'], levels, colors='k')\n",
    "plt.clabel(contour, colors = 'k', fmt = '%2.1f', fontsize=12)\n",
    "ax.set(ylabel='depth (m)') #, xlabel='time (simulation years)')\n",
    "ax.invert_yaxis()\n",
    "ax.xaxis.tick_top()\n",
    "\n",
    "ax = fig.add_subplot(2,1,2)\n",
    "pc=ax.contourf(years, z_bottom, diff_Pac_bottom['SiO3'], levels, cmap='bwr')\n",
    "contour = plt.contour(years, z_bottom, diff_Pac_bottom['SiO3'], levels, colors='k')\n",
    "plt.clabel(contour, colors = 'k', fmt = '%2.0f', fontsize=12)\n",
    "ax.set(ylabel='depth (m)', xlabel='time (simulation years)')\n",
    "ax.invert_yaxis()\n",
    "\n",
    "fig.subplots_adjust(right=0.8,hspace=0)\n",
    "cbar_ax = fig.add_axes([0.85, 0.15, 0.02, 0.7])\n",
    "cbar = fig.colorbar(pc, cax=cbar_ax, label='SiO$_3$ (mmol/m3)')"
   ]
  },
  {
   "cell_type": "markdown",
   "metadata": {},
   "source": [
    "#### Global SiO$_3$ bias"
   ]
  },
  {
   "cell_type": "code",
   "execution_count": null,
   "metadata": {},
   "outputs": [],
   "source": [
    "fig = plt.figure(figsize=(13,6))\n",
    "\n",
    "plt.suptitle('Global SiO$_3$', fontsize=14)\n",
    "\n",
    "ax = fig.add_subplot(2,1,1)\n",
    "levels = [-7,-6,-5,-4,-3,-2,-1,0,1,2,3,4,5,6,7]\n",
    "pc=ax.contourf(years, z_top, diff_global_top['SiO3'], levels, cmap='bwr')\n",
    "contour = plt.contour(years, z_top, diff_global_top['SiO3'], levels, colors='k')\n",
    "plt.clabel(contour, colors = 'k', fmt = '%2.1f', fontsize=12)\n",
    "ax.set(ylabel='depth (m)') #, xlabel='time (simulation years)')\n",
    "ax.invert_yaxis()\n",
    "ax.xaxis.tick_top()\n",
    "\n",
    "ax = fig.add_subplot(2,1,2)\n",
    "pc=ax.contourf(years, z_bottom, diff_global_bottom['SiO3'], levels, cmap='bwr')\n",
    "contour = plt.contour(years, z_bottom, diff_global_bottom['SiO3'], levels, colors='k')\n",
    "plt.clabel(contour, colors = 'k', fmt = '%2.0f', fontsize=12)\n",
    "ax.set(ylabel='depth (m)', xlabel='time (simulation years)')\n",
    "ax.invert_yaxis()\n",
    "\n",
    "fig.subplots_adjust(right=0.8,hspace=0)\n",
    "cbar_ax = fig.add_axes([0.85, 0.15, 0.02, 0.7])\n",
    "cbar = fig.colorbar(pc, cax=cbar_ax, label='SiO$_3$ (mmol/m3)')"
   ]
  },
  {
   "cell_type": "markdown",
   "metadata": {},
   "source": [
    "## PO$_4$"
   ]
  },
  {
   "cell_type": "markdown",
   "metadata": {},
   "source": [
    "#### Atlantic PO$_4$ bias"
   ]
  },
  {
   "cell_type": "code",
   "execution_count": null,
   "metadata": {},
   "outputs": [],
   "source": [
    "fig = plt.figure(figsize=(13,6))\n",
    "\n",
    "plt.suptitle('Atlantic PO$_4$', fontsize=14)\n",
    "\n",
    "ax = fig.add_subplot(2,1,1)\n",
    "levels = [-0.05,-0.04,-0.03,-0.02,-0.01,0,0.01,0.02,0.03,0.04,0.05]\n",
    "pc=ax.contourf(years, z_top, diff_Atl_top['PO4'], levels, cmap='bwr')\n",
    "contour = plt.contour(years, z_top, diff_Atl_top['PO4'], levels, colors='k')\n",
    "plt.clabel(contour, colors = 'k', fmt = '%2.1f', fontsize=12)\n",
    "ax.set(ylabel='depth (m)') #, xlabel='time (simulation years)')\n",
    "ax.invert_yaxis()\n",
    "ax.xaxis.tick_top()\n",
    "\n",
    "ax = fig.add_subplot(2,1,2)\n",
    "pc=ax.contourf(years, z_bottom, diff_Atl_bottom['PO4'], levels, cmap='bwr')\n",
    "contour = plt.contour(years, z_bottom, diff_Atl_bottom['PO4'], levels, colors='k')\n",
    "plt.clabel(contour, colors = 'k', fmt = '%2.0f', fontsize=12)\n",
    "ax.set(ylabel='depth (m)', xlabel='time (simulation years)')\n",
    "ax.invert_yaxis()\n",
    "\n",
    "fig.subplots_adjust(right=0.8,hspace=0)\n",
    "cbar_ax = fig.add_axes([0.85, 0.15, 0.02, 0.7])\n",
    "cbar = fig.colorbar(pc, cax=cbar_ax, label='PO$_4$ (mmol/m3)')"
   ]
  },
  {
   "cell_type": "markdown",
   "metadata": {},
   "source": [
    "#### Pacific PO$_4$ bias"
   ]
  },
  {
   "cell_type": "code",
   "execution_count": null,
   "metadata": {},
   "outputs": [],
   "source": [
    "fig = plt.figure(figsize=(13,6))\n",
    "\n",
    "plt.suptitle('Pacific PO$_4$', fontsize=14)\n",
    "\n",
    "ax = fig.add_subplot(2,1,1)\n",
    "levels = [-0.06,-0.05,-0.04,-0.03,-0.02,-0.01,0,0.01,0.02,0.03,0.04,0.05,0.06]\n",
    "pc=ax.contourf(years, z_top, diff_Pac_top['PO4'], levels, cmap='bwr')\n",
    "contour = plt.contour(years, z_top, diff_Pac_top['PO4'], levels, colors='k')\n",
    "plt.clabel(contour, colors = 'k', fmt = '%2.1f', fontsize=12)\n",
    "ax.set(ylabel='depth (m)') #, xlabel='time (simulation years)')\n",
    "ax.invert_yaxis()\n",
    "ax.xaxis.tick_top()\n",
    "\n",
    "ax = fig.add_subplot(2,1,2)\n",
    "pc=ax.contourf(years, z_bottom, diff_Pac_bottom['PO4'], levels, cmap='bwr')\n",
    "contour = plt.contour(years, z_bottom, diff_Pac_bottom['PO4'], levels, colors='k')\n",
    "plt.clabel(contour, colors = 'k', fmt = '%2.0f', fontsize=12)\n",
    "ax.set(ylabel='depth (m)', xlabel='time (simulation years)')\n",
    "ax.invert_yaxis()\n",
    "\n",
    "fig.subplots_adjust(right=0.8,hspace=0)\n",
    "cbar_ax = fig.add_axes([0.85, 0.15, 0.02, 0.7])\n",
    "cbar = fig.colorbar(pc, cax=cbar_ax, label='PO$_4$ (mmol/m3)')"
   ]
  },
  {
   "cell_type": "markdown",
   "metadata": {},
   "source": [
    "#### Global PO$_4$ bias"
   ]
  },
  {
   "cell_type": "code",
   "execution_count": null,
   "metadata": {},
   "outputs": [],
   "source": [
    "fig = plt.figure(figsize=(13,6))\n",
    "\n",
    "plt.suptitle('Global PO$_4$', fontsize=14)\n",
    "\n",
    "ax = fig.add_subplot(2,1,1)\n",
    "levels = [-0.11,-0.1,-0.09,-0.08,-0.07,-0.06,-0.05,-0.04,-0.03,-0.02,-0.01,0,0.01,0.02,0.03,0.04,0.05,0.06,0.07,0.08,0.09,0.1,0.11]\n",
    "pc=ax.contourf(years, z_top, diff_global_top['PO4'], levels, cmap='bwr')\n",
    "contour = plt.contour(years, z_top, diff_global_top['PO4'], levels, colors='k')\n",
    "plt.clabel(contour, colors = 'k', fmt = '%2.1f', fontsize=12)\n",
    "ax.set(ylabel='depth (m)') #, xlabel='time (simulation years)')\n",
    "ax.invert_yaxis()\n",
    "ax.xaxis.tick_top()\n",
    "\n",
    "ax = fig.add_subplot(2,1,2)\n",
    "pc=ax.contourf(years, z_bottom, diff_global_bottom['PO4'], levels, cmap='bwr')\n",
    "contour = plt.contour(years, z_bottom, diff_global_bottom['PO4'], levels, colors='k')\n",
    "plt.clabel(contour, colors = 'k', fmt = '%2.0f', fontsize=12)\n",
    "ax.set(ylabel='depth (m)', xlabel='time (simulation years)')\n",
    "ax.invert_yaxis()\n",
    "\n",
    "fig.subplots_adjust(right=0.8,hspace=0)\n",
    "cbar_ax = fig.add_axes([0.85, 0.15, 0.02, 0.7])\n",
    "cbar = fig.colorbar(pc, cax=cbar_ax, label='PO$_4$ (mmol/m3)')"
   ]
  },
  {
   "cell_type": "code",
   "execution_count": null,
   "metadata": {},
   "outputs": [],
   "source": []
  }
 ],
 "metadata": {
  "kernelspec": {
   "display_name": "Python [conda env:analysis2]",
   "language": "python",
   "name": "conda-env-analysis2-py"
  },
  "language_info": {
   "codemirror_mode": {
    "name": "ipython",
    "version": 3
   },
   "file_extension": ".py",
   "mimetype": "text/x-python",
   "name": "python",
   "nbconvert_exporter": "python",
   "pygments_lexer": "ipython3",
   "version": "3.7.3"
  }
 },
 "nbformat": 4,
 "nbformat_minor": 4
}
